{
 "cells": [
  {
   "cell_type": "markdown",
   "metadata": {},
   "source": [
    "# San Francisco Crime Classification \n",
    "### https://www.kaggle.com/c/sf-crime\n",
    "\n",
    "## I. Description of Problem and Data Set\n",
    "\n",
    "Crime prediction based on historical data has always been a hot topic in statistical analysis.  With the onset of machine learning algorithms, this has become even more dominant in recent years.  However, accurately predicting that a certain crime is about to occur is very hard given the presented features.  In this Kaggle competition, we are asked to predict the probability of each crime category given a dataset with location and time features.\n",
    "\n",
    "The training data set contains the following raw features:\n",
    "\n",
    "Dates - date and time of crime\t\n",
    "Category - category of crime, the dependent variable\t\n",
    "Descript - description of the crime\t\n",
    "DayOfWeek - the day of the week (i.e. Monday, Tuesday, etc)\t\n",
    "PdDistrict - the police district in San Francisco\t\n",
    "Resolution - the resolution of the crime (i.e. arrested, cleared, none, etc)\t\n",
    "Address\t- the address of the crime  \n",
    "X - the X coordinate of the location  \t\n",
    "Y - the Y coordinate of the location\n",
    "\n",
    "The test data contains the following raw features:\n",
    "\n",
    "Id - ID of the incident  \n",
    "Dates - date and time of crime\t\n",
    "DayOfWeek - the day of the week (i.e. Monday, Tuesday, etc)\t\n",
    "PdDistrict - the police district in San Francisco\t\n",
    "Address\t- the address of the crime  \n",
    "X - the X coordinate of the location  \t\n",
    "Y - the Y coordinate of the location\n",
    "\n",
    "Information from Kaggle:  \n",
    " \n",
    "\"This dataset contains incidents derived from SFPD Crime Incident Reporting system. The data ranges from 1/1/2003 to 5/13/2015. The training set and test set rotate every week, meaning week 1,3,5,7... belong to test set, week 2,4,6,8 belong to training set.\""
   ]
  },
  {
   "cell_type": "markdown",
   "metadata": {},
   "source": [
    "## II. Library Import"
   ]
  },
  {
   "cell_type": "code",
   "execution_count": 272,
   "metadata": {
    "collapsed": false
   },
   "outputs": [],
   "source": [
    "import warnings\n",
    "warnings.filterwarnings('ignore')\n",
    "\n",
    "# This tells matplotlib not to try opening a new window for each plot.\n",
    "%matplotlib inline\n",
    "\n",
    "# General libraries.\n",
    "import numpy as np\n",
    "import pandas as pd\n",
    "import matplotlib.pyplot as plt\n",
    "import shapefile\n",
    "import time\n",
    "\n",
    "# SK-learn libraries for learning.\n",
    "from sklearn.pipeline import Pipeline\n",
    "from sklearn.neighbors import KNeighborsClassifier\n",
    "from sklearn.grid_search import GridSearchCV\n",
    "from sklearn import preprocessing\n",
    "from sklearn.mixture import GaussianMixture\n",
    "from sklearn.cross_validation import train_test_split\n",
    "from sklearn.naive_bayes import BernoulliNB\n",
    "from sklearn.linear_model import LogisticRegression\n",
    "from sklearn.model_selection import cross_val_score\n",
    "\n",
    "# SK-learn libraries for evaluation.\n",
    "from sklearn.metrics import confusion_matrix\n",
    "from sklearn import metrics\n",
    "from sklearn.metrics import classification_report\n",
    "from sklearn.metrics import log_loss"
   ]
  },
  {
   "cell_type": "markdown",
   "metadata": {},
   "source": [
    "## III. Data Import\n",
    "Import data and check the shape of train and test set."
   ]
  },
  {
   "cell_type": "code",
   "execution_count": 2,
   "metadata": {
    "collapsed": false
   },
   "outputs": [
    {
     "name": "stdout",
     "output_type": "stream",
     "text": [
      "Shape of train data (878049, 9)\n",
      "Shape of test data (884262, 7)\n"
     ]
    }
   ],
   "source": [
    "import csv\n",
    "from datetime import datetime\n",
    "from time import time\n",
    "ff = \"./Data/train.csv\" # you will need to edit this directory\n",
    "with open(ff, 'rt') as f:\n",
    "    reader = csv.reader(f)\n",
    "    train_data = list(reader)\n",
    "ff = \"./Data/test.csv\" # you will need to edit this directory\n",
    "with open(ff, 'rt') as f:\n",
    "    reader = csv.reader(f)\n",
    "    test_data = list(reader)\n",
    "    \n",
    "#Convert to pandas data frame for better analysis\n",
    "train_data_full = pd.DataFrame(train_data[1:], columns = train_data[0])\n",
    "test_data = pd.DataFrame(test_data[1:], columns = test_data[0])\n",
    "print (\"Shape of train data\", train_data_full.shape)\n",
    "print (\"Shape of test data\", test_data.shape)"
   ]
  },
  {
   "cell_type": "markdown",
   "metadata": {},
   "source": [
    "### Section for functions that will be re-used throughout the notebook"
   ]
  },
  {
   "cell_type": "code",
   "execution_count": 379,
   "metadata": {
    "collapsed": true
   },
   "outputs": [],
   "source": [
    "## EDA Graphs\n",
    "def graph_counts(data, title, x, y, xlabel, ylabel, palette=\"Greens_d\"):\n",
    "    sns.barplot(x=x,y=y,data=data, palette=palette)\n",
    "    locs, labels = plt.xticks()\n",
    "    plt.setp(labels, rotation=90)\n",
    "    plt.title(title)\n",
    "    plt.xlabel(xlabel)\n",
    "    plt.ylabel(ylabel)\n",
    "    plt.show()\n",
    "    \n",
    "#create functions to extract the needed datetime features\n",
    "def season(date):\n",
    "    spring = range(80, 172)\n",
    "    summer = range(172, 264)\n",
    "    fall = range(264, 355)\n",
    "    if date.timetuple().tm_yday in spring:\n",
    "        return 2, \"Spring\" #Spring\n",
    "    elif date.timetuple().tm_yday in summer:\n",
    "        return 3, \"Summer\" #Summer\n",
    "    elif date.timetuple().tm_yday in fall:\n",
    "        return 4, \"Fall\" #Fall\n",
    "    else:\n",
    "        return 1, \"Winter\" #Winter\n",
    "    \n",
    "def getTimeCat(date):\n",
    "    # extract time categories\n",
    "    timecat = 4\n",
    "    ts =  datetime.strptime(str(date),  '%Y-%m-%d %H:%M:%S').time()\n",
    "\n",
    "    # --> Morning = 0400-1000\n",
    "    mornStart = datetime.strptime('2016-12-31 04:01',  '%Y-%m-%d %H:%M').time()\n",
    "    mornEnd = datetime.strptime('2016-12-31 10:00',  '%Y-%m-%d %H:%M').time()\n",
    "    \n",
    "    # --> Midday = 1000-1600\n",
    "    midStart = datetime.strptime('2016-12-31 10:01',  '%Y-%m-%d %H:%M').time()\n",
    "    midEnd = datetime.strptime('2016-12-31 16:00',  '%Y-%m-%d %H:%M').time()\n",
    "\n",
    "    # --> Evening = 1600-2300\n",
    "    eveStart = datetime.strptime('2016-12-31 16:01',  '%Y-%m-%d %H:%M').time()\n",
    "    eveEnd = datetime.strptime('2016-12-31 23:00',  '%Y-%m-%d %H:%M').time()\n",
    "\n",
    "    # --> Late Night = 2300-0400\n",
    "    lateStart1 = datetime.strptime('2016-12-31 23:01',  '%Y-%m-%d %H:%M').time()\n",
    "    lateEnd1 = datetime.strptime('2016-12-31 23:59',  '%Y-%m-%d %H:%M').time()\n",
    "    lateStart2 = datetime.strptime('2016-12-31 00:01',  '%Y-%m-%d %H:%M').time()\n",
    "    lateEnd2 = datetime.strptime('2016-12-31 04:01',  '%Y-%m-%d %H:%M').time()\n",
    "\n",
    "    \n",
    "    if ts >= mornStart and ts <= mornEnd:\n",
    "      timecat = 0,'morning' #morning\n",
    "    elif ts >= midStart and ts <= midEnd:\n",
    "      timecat = 1, 'midday' #midday\n",
    "    elif ts >= eveStart and ts <= eveEnd:\n",
    "      timecat = 2, 'evening' #evening\n",
    "    elif ts >= lateStart1 and ts <= lateEnd1:\n",
    "      timecat = 3, 'late_night' #late night\n",
    "    elif ts >= lateStart2 and ts <= lateEnd2:\n",
    "      timecat = 3, 'late_night' #late night\n",
    "\n",
    "    return timecat\n",
    "\n",
    "def month_str(date):\n",
    "    if date.month == 1:\n",
    "        return \"Jan\"\n",
    "    if date.month == 2:\n",
    "        return \"Feb\"\n",
    "    if date.month == 3:\n",
    "        return \"Mar\"\n",
    "    if date.month == 4:\n",
    "        return \"Apr\"\n",
    "    if date.month == 5:\n",
    "        return \"May\"\n",
    "    if date.month == 6:\n",
    "        return \"Jun\"\n",
    "    if date.month == 7:\n",
    "        return \"Jul\"\n",
    "    if date.month == 8:\n",
    "        return \"Aug\"\n",
    "    if date.month == 9:\n",
    "        return \"Sep\"\n",
    "    if date.month == 10:\n",
    "        return \"Oct\"\n",
    "    if date.month == 11:\n",
    "        return \"Nov\"\n",
    "    if date.month == 11:\n",
    "        return \"Dec\"\n",
    "\n",
    "def normalize(series_field, df, new_field_name):\n",
    "    scaler = preprocessing.MinMaxScaler(feature_range=(0, 1))\n",
    "    series_field = series_field.reshape((len(series_field), 1))\n",
    "    scaler = scaler.fit(series_field)\n",
    "    normalized = scaler.transform(series_field)\n",
    "    df[new_field_name] = normalized\n",
    "    return df\n",
    "\n",
    "def standardize(series_field, df, new_field_name):\n",
    "    scaler = preprocessing.StandardScaler()\n",
    "    series_field = series_field.reshape((len(series_field), 1))\n",
    "    scaler = scaler.fit(series_field)\n",
    "    standardized = scaler.transform(series_field)\n",
    "    df[new_field_name] = standardized\n",
    "    return df\n",
    "\n",
    "\n",
    "# Grid Search CV to determine best estimators for each model\n",
    "def best_e_nb(alphas, train1, train2):\n",
    "\n",
    "    clf = BernoulliNB()\n",
    "    g = GridSearchCV(clf, param_grid = alphas)\n",
    "    g.fit(train1, train2)\n",
    "        \n",
    "    return (g)\n",
    "\n",
    "def best_e_lr(Cs, train1, train2):\n",
    "\n",
    "    clf = LogisticRegression()\n",
    "    g = GridSearchCV(clf, param_grid = Cs)\n",
    "    g.fit(train1, train2)\n",
    "        \n",
    "    return (g)\n",
    "\n"
   ]
  },
  {
   "cell_type": "markdown",
   "metadata": {},
   "source": [
    "## IV. EDA"
   ]
  },
  {
   "cell_type": "code",
   "execution_count": 4,
   "metadata": {
    "collapsed": false,
    "scrolled": false
   },
   "outputs": [
    {
     "data": {
      "image/png": "[encoded data removed]",
      "text/plain": [
       "<matplotlib.figure.Figure at 0x2aaa6fae438>"
      ]
     },
     "metadata": {},
     "output_type": "display_data"
    },
    {
     "data": {
      "image/png": "[encoded data removed]",
      "text/plain": [
       "<matplotlib.figure.Figure at 0x2aaa73ce278>"
      ]
     },
     "metadata": {},
     "output_type": "display_data"
    },
    {
     "data": {
      "image/png": "[encoded data removed]",
      "text/plain": [
       "<matplotlib.figure.Figure at 0x2aaa73fcb38>"
      ]
     },
     "metadata": {},
     "output_type": "display_data"
    },
    {
     "data": {
      "image/png": "[encoded data removed]",
      "text/plain": [
       "<matplotlib.figure.Figure at 0x2aaa7460978>"
      ]
     },
     "metadata": {},
     "output_type": "display_data"
    }
   ],
   "source": [
    "category_count = train_data_full.groupby(['Category'], as_index=False)['Dates'].count()\n",
    "\n",
    "data1 = category_count.sort_values(ascending=False, by='Dates')[:5]\n",
    "data2 = category_count.sort_values(ascending=True, by='Dates')[:5]\n",
    "data3 = category_count.sort_values(ascending=False, by='Dates')[:5].cumsum()\n",
    "data4 = category_count.sort_values(ascending=False, by='Dates')\n",
    "\n",
    "title1 = 'Training Data: Top 5 crimes'\n",
    "title2 = 'Training Data: Lowest 5 crimes'\n",
    "title3 = 'Training Data: Cumulative Sum of Counts for Top 5 Crimes'\n",
    "title4 = 'Training Data: All Category Counts'\n",
    "\n",
    "palette=\"Greens_d\"\n",
    "\n",
    "graph_counts(data1, title1, 'Category', 'Dates', 'Crime Category', 'Frequency', palette)\n",
    "graph_counts(data2, title2, 'Category', 'Dates', 'Crime Category', 'Frequency', palette)\n",
    "graph_counts(data3, title3, 'Category', 'Dates', 'Crime Category', 'Frequency', palette)\n",
    "graph_counts(data4, title4, 'Category', 'Dates', 'Crime Category', 'Frequency', palette)\n",
    "\n",
    "\n",
    "#Top 5 crimes make up over 50% of the training data set.\n",
    "#Focusing on prediciting these as accurately as possible may give us a better accuracy score overall "
   ]
  },
  {
   "cell_type": "markdown",
   "metadata": {},
   "source": [
    "## V. Feature Engineering"
   ]
  },
  {
   "cell_type": "markdown",
   "metadata": {},
   "source": [
    "### Creating Neighborhood Feature\n",
    "\n",
    "Converting X and Y coordinates into San Francisco neighborhoods using Zillows database via shapefiles\n",
    "\n",
    "Shapefiles can be read via the pyshp package (https://pypi.python.org/pypi/pyshp)\n",
    "\n",
    "https://www.zillow.com/howto/api/neighborhood-boundaries.htm"
   ]
  },
  {
   "cell_type": "code",
   "execution_count": 5,
   "metadata": {
    "collapsed": false
   },
   "outputs": [],
   "source": [
    "#read in the shapefile provided by zillow for california\n",
    "sf = shapefile.Reader(\"./Data/ZillowNeighborhoods-CA.shp\")\n",
    "fields = sf.fields[1:] \n",
    "field_names = [field[0] for field in fields] \n",
    "nhood_list = []\n",
    "\n",
    "#iterate through the shapefile records and retrieve the properties of each shapefile record \n",
    "#as well as its bbox coordinates \n",
    "#bbox: If the shape type contains multiple points this tuple describes the lower left (x,y) \n",
    "#coordinate and upper right corner coordinate creating a complete box around the points. \n",
    "#If the shapeType is a Null (shapeType == 0) then an AttributeError is raised.\n",
    "\n",
    "#we will use the bbox to determine if our X and Y coordinates from the training data\n",
    "#fall within the bbox of each neighborhood and then assign that neighborhood to the training data\n",
    "for r in sf.shapeRecords():  \n",
    "    atr = dict(zip(field_names, r.record))\n",
    "    bbox = r.shape.bbox\n",
    "    if atr['City'] == 'San Francisco':\n",
    "        #print (dict(properties=atr,bbox=bbox))\n",
    "        new_dict=dict(properties=atr,bbox=bbox)\n",
    "        nhood_list.append(new_dict)\n",
    "        \n",
    "def coord_in_bbox(bbox, X, Y):\n",
    "    if X>=bbox[0] and X<=bbox[2] and Y>=bbox[1] and Y<=bbox[3]:\n",
    "        return True\n",
    "    else:\n",
    "        return False\n",
    "\n",
    "def neighborhood(nhood_list, X, Y):\n",
    "    for n in nhood_list:\n",
    "        bbox = n['bbox']\n",
    "        X = float(X)\n",
    "        Y = float(Y)\n",
    "        if coord_in_bbox(bbox, X, Y):\n",
    "            return n['properties']['Name']\n",
    "\n",
    "#Add neighborhood to train data\n",
    "train_data_full['Neighborhood'] = train_data_full.apply(lambda x: neighborhood(nhood_list,x['X'],x['Y']),axis=1)\n",
    "        \n",
    "\n"
   ]
  },
  {
   "cell_type": "markdown",
   "metadata": {},
   "source": [
    "Neighborhood Counts"
   ]
  },
  {
   "cell_type": "code",
   "execution_count": 6,
   "metadata": {
    "collapsed": false
   },
   "outputs": [
    {
     "data": {
      "image/png": "[encoded data removed]",
      "text/plain": [
       "<matplotlib.figure.Figure at 0x2aaa76638d0>"
      ]
     },
     "metadata": {},
     "output_type": "display_data"
    },
    {
     "data": {
      "image/png": "[encoded data removed]",
      "text/plain": [
       "<matplotlib.figure.Figure at 0x2aaa99355c0>"
      ]
     },
     "metadata": {},
     "output_type": "display_data"
    },
    {
     "data": {
      "image/png": "[encoded data removed]",
      "text/plain": [
       "<matplotlib.figure.Figure at 0x2aaa9aaae48>"
      ]
     },
     "metadata": {},
     "output_type": "display_data"
    },
    {
     "data": {
      "image/png": "[encoded data removed]",
      "text/plain": [
       "<matplotlib.figure.Figure at 0x2aaa9e9a1d0>"
      ]
     },
     "metadata": {},
     "output_type": "display_data"
    }
   ],
   "source": [
    "neighborhood_count = train_data_full.groupby(['Neighborhood'], as_index=False)['Dates'].count()\n",
    "\n",
    "data1 = neighborhood_count.sort_values(ascending=False, by='Dates')[:5]\n",
    "data2 = neighborhood_count.sort_values(ascending=True, by='Dates')[:5]\n",
    "data3 = neighborhood_count.sort_values(ascending=False, by='Dates')[:5].cumsum()\n",
    "data4 = neighborhood_count.sort_values(ascending=False, by='Dates')\n",
    "\n",
    "title1 = 'Training Data: Top 5 Criminal Neighborhoods'\n",
    "title2 = 'Training Data: Lowest 5 Criminal Neighborhoods'\n",
    "title3 = 'Training Data: Cumulative Sum of Counts for Top 5 Neighborhoods'\n",
    "title4 = 'Training Data: All Neighborhood Counts'\n",
    "\n",
    "palette=\"Blues_d\"\n",
    "\n",
    "graph_counts(data1, title1, 'Neighborhood', 'Dates', 'Neighborhood', 'Frequency', palette)\n",
    "graph_counts(data2, title2, 'Neighborhood', 'Dates', 'Neighborhood', 'Frequency', palette)\n",
    "graph_counts(data3, title3, 'Neighborhood', 'Dates', 'Neighborhood', 'Frequency', palette)\n",
    "graph_counts(data4, title4, 'Neighborhood', 'Dates', 'Neighborhood', 'Frequency', palette)\n",
    "\n",
    "\n",
    "#Top 5 neighborhoods make up almost 50% of the training data set.\n",
    "#Also next steps is to bring in the category counts by neighborhood to see how these relate as well."
   ]
  },
  {
   "cell_type": "markdown",
   "metadata": {},
   "source": [
    "Overlaying Category and Neighborhood"
   ]
  },
  {
   "cell_type": "code",
   "execution_count": 7,
   "metadata": {
    "collapsed": false
   },
   "outputs": [
    {
     "data": {
      "text/plain": [
       "<matplotlib.text.Text at 0x2aaa9e3c5f8>"
      ]
     },
     "execution_count": 7,
     "metadata": {},
     "output_type": "execute_result"
    },
    {
     "data": {
      "image/png": "[encoded data removed]",
      "text/plain": [
       "<matplotlib.figure.Figure at 0x2aaa6fd3390>"
      ]
     },
     "metadata": {},
     "output_type": "display_data"
    }
   ],
   "source": [
    "train_data_top5 = train_data_full[train_data_full['Category'].isin(['LARCENY/THEFT','OTHER OFFENSES', 'NON-CRIMINAL','ASSAULT', 'DRUG/NARCOTIC'])]\n",
    "train_data_top5 = train_data_top5[train_data_top5['Neighborhood'].isin(['South of Market', 'Downtown', 'Mission', 'South Beach', 'Bayview'])]\n",
    "ax = sns.countplot(x=\"Neighborhood\", hue='Category', data=train_data_top5, palette=\"Greens_d\")\n",
    "locs, labels = plt.xticks()\n",
    "plt.setp(labels, rotation=90)\n",
    "plt.title('Distribution of San Fran Neighborhoods and Crime Categories')\n",
    "plt.xlabel('Neighborhood')\n",
    "plt.ylabel('Frequency')"
   ]
  },
  {
   "cell_type": "code",
   "execution_count": 8,
   "metadata": {
    "collapsed": false
   },
   "outputs": [
    {
     "data": {
      "text/plain": [
       "<matplotlib.text.Text at 0x2aaa9b23898>"
      ]
     },
     "execution_count": 8,
     "metadata": {},
     "output_type": "execute_result"
    },
    {
     "data": {
      "image/png": "[encoded data removed]",
      "text/plain": [
       "<matplotlib.figure.Figure at 0x2aaa9b018d0>"
      ]
     },
     "metadata": {},
     "output_type": "display_data"
    }
   ],
   "source": [
    "train_data_top5 = train_data_full[train_data_full['Category'].isin(['LARCENY/THEFT','OTHER OFFENSES', 'NON-CRIMINAL','ASSAULT', 'DRUG/NARCOTIC'])]\n",
    "train_data_top5 = train_data_top5[train_data_top5['Neighborhood'].isin(['South of Market', 'Downtown', 'Mission', 'South Beach', 'Bayview'])]\n",
    "ax = sns.countplot(x=\"Category\", hue='Neighborhood', data=train_data_top5, palette=\"Blues_d\")\n",
    "locs, labels = plt.xticks()\n",
    "plt.setp(labels, rotation=90)\n",
    "plt.title('Distribution of San Fran Neighborhoods and Crime Categories')\n",
    "plt.xlabel('Category')\n",
    "plt.ylabel('Frequency')"
   ]
  },
  {
   "cell_type": "markdown",
   "metadata": {},
   "source": [
    "### Generate Date and Time Features\n",
    "Season  \n",
    "Month  \n",
    "Week  \n",
    "Day / Day of Week  \n",
    "Hour"
   ]
  },
  {
   "cell_type": "code",
   "execution_count": 9,
   "metadata": {
    "collapsed": false
   },
   "outputs": [
    {
     "name": "stderr",
     "output_type": "stream",
     "text": [
      "C:\\Users\\sriva\\AppData\\Local\\Continuum\\Anaconda3\\lib\\site-packages\\sklearn\\utils\\validation.py:429: DataConversionWarning: Data with input dtype datetime64[ns] was converted to float64 by MinMaxScaler.\n",
      "  warnings.warn(msg, _DataConversionWarning)\n",
      "C:\\Users\\sriva\\AppData\\Local\\Continuum\\Anaconda3\\lib\\site-packages\\sklearn\\utils\\validation.py:429: DataConversionWarning: Data with input dtype datetime64[ns] was converted to float64 by StandardScaler.\n",
      "  warnings.warn(msg, _DataConversionWarning)\n",
      "C:\\Users\\sriva\\AppData\\Local\\Continuum\\Anaconda3\\lib\\site-packages\\sklearn\\utils\\validation.py:429: DataConversionWarning: Data with input dtype object was converted to float64 by MinMaxScaler.\n",
      "  warnings.warn(msg, _DataConversionWarning)\n",
      "C:\\Users\\sriva\\AppData\\Local\\Continuum\\Anaconda3\\lib\\site-packages\\sklearn\\utils\\validation.py:429: DataConversionWarning: Data with input dtype object was converted to float64 by StandardScaler.\n",
      "  warnings.warn(msg, _DataConversionWarning)\n"
     ]
    }
   ],
   "source": [
    "#convert Dates to datetime\n",
    "train_data_full['FinalDate'] = pd.to_datetime(train_data_full['Dates'], format='%Y-%m-%d %H:%M:%S')\n",
    "\n",
    "#apply the functions\n",
    "train_data_full['Season'], train_data_full['Season_Str'] = zip(*train_data_full['FinalDate'].map(season))\n",
    "train_data_full['DayOfMonth'] = train_data_full['FinalDate'].apply(lambda x: x.day)\n",
    "train_data_full['Week'] = train_data_full['FinalDate'].apply(lambda x: x.week)\n",
    "train_data_full['Month'] = train_data_full['FinalDate'].apply(lambda x: x.month)\n",
    "train_data_full['Month_Str'] = train_data_full['FinalDate'].map(month_str)\n",
    "train_data_full['TimeCat'], train_data_full['TimeCat_Str'] = zip(*train_data_full['FinalDate'].map(getTimeCat))\n",
    "train_data_full['Hour'] = train_data_full['FinalDate'].apply(lambda x: str(x.hour) + \":00\")\n",
    "\n",
    "#Normalize and Standardize Date and X,Y\n",
    "train_data_full = normalize(train_data_full['FinalDate'], train_data_full, 'DateNorm')\n",
    "train_data_full = standardize(train_data_full['FinalDate'], train_data_full, 'DateStand')\n",
    "train_data_full = normalize(train_data_full['X'], train_data_full, 'XNorm')\n",
    "train_data_full = standardize(train_data_full['X'], train_data_full, 'XStand')\n",
    "train_data_full = normalize(train_data_full['Y'], train_data_full, 'YNorm')\n",
    "train_data_full = standardize(train_data_full['Y'], train_data_full, 'YStand')\n",
    "train_data_full = standardize(train_data_full['DateNorm'], train_data_full, 'DateNS')\n",
    "train_data_full = standardize(train_data_full['XNorm'], train_data_full, 'XNS')\n",
    "train_data_full = standardize(train_data_full['YNorm'], train_data_full, 'YNS')"
   ]
  },
  {
   "cell_type": "code",
   "execution_count": 10,
   "metadata": {
    "collapsed": false
   },
   "outputs": [
    {
     "data": {
      "image/png": "[encoded data removed]",
      "text/plain": [
       "<matplotlib.figure.Figure at 0x2aaa9adff28>"
      ]
     },
     "metadata": {},
     "output_type": "display_data"
    },
    {
     "data": {
      "image/png": "[encoded data removed]",
      "text/plain": [
       "<matplotlib.figure.Figure at 0x2aaaa17b3c8>"
      ]
     },
     "metadata": {},
     "output_type": "display_data"
    },
    {
     "data": {
      "image/png": "[encoded data removed]",
      "text/plain": [
       "<matplotlib.figure.Figure at 0x2aaaa352320>"
      ]
     },
     "metadata": {},
     "output_type": "display_data"
    },
    {
     "data": {
      "image/png": "[encoded data removed]",
      "text/plain": [
       "<matplotlib.figure.Figure at 0x2aaaa382a58>"
      ]
     },
     "metadata": {},
     "output_type": "display_data"
    }
   ],
   "source": [
    "season_count = train_data_full.groupby(['Season_Str'], as_index=False)['Dates'].count()\n",
    "timecat_count = train_data_full.groupby(['TimeCat_Str'], as_index=False)['Dates'].count()\n",
    "daymonth_count = train_data_full.groupby(['DayOfMonth'], as_index=False)['Dates'].count()\n",
    "month_count = train_data_full.groupby(['Month'], as_index=False)['Dates'].count()\n",
    "\n",
    "data1 = season_count.sort_values(ascending=False, by='Dates')\n",
    "data2 = timecat_count.sort_values(ascending=False, by='Dates')\n",
    "data3 = daymonth_count.sort_values(ascending=False, by='Dates')\n",
    "data4 = month_count.sort_values(ascending=False, by='Dates')\n",
    "\n",
    "title1 = 'Training Data: Season Frequencies'\n",
    "title2 = 'Training Data: Time Category Frequencies'\n",
    "title3 = 'Training Data: Day of Month Frequencies'\n",
    "title4 = 'Training Data: Monthly Frequencies'\n",
    "\n",
    "palette=\"Reds_d\"\n",
    "\n",
    "graph_counts(data1, title1, 'Season_Str', 'Dates', 'Season', 'Frequency', palette)\n",
    "graph_counts(data2, title2, 'TimeCat_Str', 'Dates', 'Time Category', 'Frequency', palette)\n",
    "graph_counts(data3, title3, 'DayOfMonth', 'Dates', 'Day of Month', 'Frequency', palette)\n",
    "graph_counts(data4, title4, 'Month', 'Dates', 'Month #', 'Frequency', palette)"
   ]
  },
  {
   "cell_type": "code",
   "execution_count": 11,
   "metadata": {
    "collapsed": false
   },
   "outputs": [
    {
     "data": {
      "text/plain": [
       "<matplotlib.text.Text at 0x2aaa9935a58>"
      ]
     },
     "execution_count": 11,
     "metadata": {},
     "output_type": "execute_result"
    },
    {
     "data": {
      "image/png": "[encoded data removed]",
      "text/plain": [
       "<matplotlib.figure.Figure at 0x2aaa9b218d0>"
      ]
     },
     "metadata": {},
     "output_type": "display_data"
    }
   ],
   "source": [
    "train_data_top5 = train_data_full[train_data_full['Category'].isin(['LARCENY/THEFT','OTHER OFFENSES', 'NON-CRIMINAL','ASSAULT', 'DRUG/NARCOTIC'])]\n",
    "train_data_top5 = train_data_top5[train_data_top5['TimeCat_Str'].isin(['morning', 'midday', 'evening', 'late_night'])]\n",
    "ax = sns.countplot(x=\"TimeCat_Str\", hue='Category', data=train_data_top5, palette=\"Reds_d\")\n",
    "locs, labels = plt.xticks()\n",
    "plt.setp(labels, rotation=90)\n",
    "plt.title('Distribution of San Fran Crime Categories with Time of Day')\n",
    "plt.xlabel('Category')\n",
    "plt.ylabel('Frequency')"
   ]
  },
  {
   "cell_type": "code",
   "execution_count": 12,
   "metadata": {
    "collapsed": false
   },
   "outputs": [
    {
     "data": {
      "image/png": "[encoded data removed]",
      "text/plain": [
       "<matplotlib.figure.Figure at 0x2aaaa4bf940>"
      ]
     },
     "metadata": {},
     "output_type": "display_data"
    },
    {
     "data": {
      "image/png": "[encoded data removed]",
      "text/plain": [
       "<matplotlib.figure.Figure at 0x2aaa73ff5c0>"
      ]
     },
     "metadata": {},
     "output_type": "display_data"
    },
    {
     "data": {
      "image/png": "[encoded data removed]",
      "text/plain": [
       "<matplotlib.figure.Figure at 0x2aaa995ecf8>"
      ]
     },
     "metadata": {},
     "output_type": "display_data"
    },
    {
     "data": {
      "image/png": "[encoded data removed]",
      "text/plain": [
       "<matplotlib.figure.Figure at 0x2aaa9977978>"
      ]
     },
     "metadata": {},
     "output_type": "display_data"
    }
   ],
   "source": [
    "district_count = train_data_full.groupby(['PdDistrict'], as_index=False)['Dates'].count()\n",
    "\n",
    "data1 = district_count.sort_values(ascending=False, by='Dates')[:5]\n",
    "data2 = district_count.sort_values(ascending=True, by='Dates')[:5]\n",
    "data3 = district_count.sort_values(ascending=False, by='Dates')[:5].cumsum()\n",
    "data4 = district_count.sort_values(ascending=False, by='Dates')\n",
    "\n",
    "title1 = 'Training Data: Top 5 Criminal PD Districts'\n",
    "title2 = 'Training Data: Lowest 5 Criminal PD Districts'\n",
    "title3 = 'Training Data: Cumulative Sum of Counts for Top 5 PD Districts'\n",
    "title4 = 'Training Data: All PD District Counts'\n",
    "\n",
    "palette=\"Blues_d\"\n",
    "\n",
    "graph_counts(data1, title1, 'PdDistrict', 'Dates', 'PD District', 'Frequency', palette)\n",
    "graph_counts(data2, title2, 'PdDistrict', 'Dates', 'PD District', 'Frequency', palette)\n",
    "graph_counts(data3, title3, 'PdDistrict', 'Dates', 'PD District', 'Frequency', palette)\n",
    "graph_counts(data4, title4, 'PdDistrict', 'Dates', 'PD District', 'Frequency', palette)"
   ]
  },
  {
   "cell_type": "code",
   "execution_count": 13,
   "metadata": {
    "collapsed": false
   },
   "outputs": [
    {
     "data": {
      "text/plain": [
       "Dates                   object\n",
       "Category                object\n",
       "Descript                object\n",
       "DayOfWeek               object\n",
       "PdDistrict              object\n",
       "Resolution              object\n",
       "Address                 object\n",
       "X                       object\n",
       "Y                       object\n",
       "Neighborhood            object\n",
       "FinalDate       datetime64[ns]\n",
       "Season                   int32\n",
       "Season_Str              object\n",
       "DayOfMonth               int64\n",
       "Week                     int64\n",
       "Month                    int64\n",
       "TimeCat                  int32\n",
       "TimeCat_Str             object\n",
       "Hour                     int64\n",
       "DateNorm               float64\n",
       "DateStand              float64\n",
       "XNorm                  float64\n",
       "XStand                 float64\n",
       "YNorm                  float64\n",
       "YStand                 float64\n",
       "DateNS                 float64\n",
       "XNS                    float64\n",
       "YNS                    float64\n",
       "dtype: object"
      ]
     },
     "execution_count": 13,
     "metadata": {},
     "output_type": "execute_result"
    }
   ],
   "source": [
    "#get a list of features and their data types\n",
    "train_data_full.dtypes"
   ]
  },
  {
   "cell_type": "markdown",
   "metadata": {},
   "source": [
    "## VI. Model Processing"
   ]
  },
  {
   "cell_type": "code",
   "execution_count": 14,
   "metadata": {
    "collapsed": false
   },
   "outputs": [],
   "source": [
    "#convert to matrix for model processing\n",
    "#Create sets of data where time and coords are standardized, scaled from [0,1], both\n",
    "X_full = train_data_full.as_matrix()\n",
    "Y = train_data_full[\"Category\"].as_matrix()\n",
    "X = train_data_full[[\"Dates\",\"X\",\"Y\"]].as_matrix()\n",
    "X_Norm = train_data_full[[\"DateNorm\",\"XNorm\",\"YNorm\"]].as_matrix()\n",
    "X_Std = train_data_full[[\"DateStand\",\"XStand\",\"YStand\"]].as_matrix()\n",
    "X_NS = train_data_full[[\"DateNS\",\"XNS\",\"YNS\"]].as_matrix()\n",
    "#Data set to investigate importance of time dimension\n",
    "X_2d = train_data_full[[\"XStand\",\"YStand\"]].as_matrix()\n",
    "X_cat = train_data_full[[\"Hour\",\"TimeCat\",\"DayOfMonth\", \"Week\",\"Month\",\"Season\",\"X\",\"Y\"]].as_matrix()"
   ]
  },
  {
   "cell_type": "code",
   "execution_count": 15,
   "metadata": {
    "collapsed": true
   },
   "outputs": [],
   "source": [
    "#Encode categories into digits\n",
    "le = preprocessing.LabelEncoder()\n",
    "le.fit(Y)\n",
    "n_classes = len(le.classes_)\n",
    "Y_le = le.transform(Y)\n",
    "\n",
    "#Shuffle the transformed data\n",
    "np.random.seed(0)\n",
    "shuffle = np.random.permutation(np.arange(X_full.shape[0]))\n",
    "X_Norm, X_Std, X_NS, X_2d, Y_le = X_Norm[shuffle],X_Std[shuffle],X_NS[shuffle],X_2d[shuffle],Y_le[shuffle]\n",
    "\n",
    "trn_N, trn_S, trn_NS, trn_2d, tr_labels = X_Norm[:len(X_full)//2], \\\n",
    "                                            X_Std[:len(X_full)//2], \\\n",
    "                                            X_NS[:len(X_full)//2], \\\n",
    "                                            X_2d[:len(X_full)//2], \\\n",
    "                                            Y_le[:len(X_full)//2] \n",
    "                \n",
    "tst_N, tst_S, tst_NS, tst_2d, tst_labels = X_Norm[len(X_full)//2:], \\\n",
    "                                            X_Std[len(X_full)//2:], \\\n",
    "                                            X_NS[len(X_full)//2:], \\\n",
    "                                            X_2d[len(X_full)//2:], \\\n",
    "                                            Y_le[len(X_full)//2:] \n",
    "trns = [trn_N, trn_S, trn_NS, trn_2d]\n",
    "tsts = [tst_N, tst_S, tst_NS, tst_2d]"
   ]
  },
  {
   "cell_type": "markdown",
   "metadata": {},
   "source": [
    "### Naive Bayes and Logistic Regression"
   ]
  },
  {
   "cell_type": "markdown",
   "metadata": {},
   "source": [
    "#### Initial Models"
   ]
  },
  {
   "cell_type": "code",
   "execution_count": 17,
   "metadata": {
    "collapsed": false,
    "scrolled": false
   },
   "outputs": [
    {
     "data": {
      "text/html": [
       "<div>\n",
       "<table border=\"1\" class=\"dataframe\">\n",
       "  <thead>\n",
       "    <tr style=\"text-align: right;\">\n",
       "      <th></th>\n",
       "      <th>Dates</th>\n",
       "      <th>Category</th>\n",
       "      <th>Descript</th>\n",
       "      <th>DayOfWeek</th>\n",
       "      <th>PdDistrict</th>\n",
       "      <th>Resolution</th>\n",
       "      <th>Address</th>\n",
       "      <th>X</th>\n",
       "      <th>Y</th>\n",
       "      <th>Neighborhood</th>\n",
       "      <th>...</th>\n",
       "      <th>Hour</th>\n",
       "      <th>DateNorm</th>\n",
       "      <th>DateStand</th>\n",
       "      <th>XNorm</th>\n",
       "      <th>XStand</th>\n",
       "      <th>YNorm</th>\n",
       "      <th>YStand</th>\n",
       "      <th>DateNS</th>\n",
       "      <th>XNS</th>\n",
       "      <th>YNS</th>\n",
       "    </tr>\n",
       "  </thead>\n",
       "  <tbody>\n",
       "    <tr>\n",
       "      <th>0</th>\n",
       "      <td>2015-05-13 23:53:00</td>\n",
       "      <td>WARRANTS</td>\n",
       "      <td>WARRANT ARREST</td>\n",
       "      <td>Wednesday</td>\n",
       "      <td>NORTHERN</td>\n",
       "      <td>ARREST, BOOKED</td>\n",
       "      <td>OAK ST / LAGUNA ST</td>\n",
       "      <td>-122.425891675136</td>\n",
       "      <td>37.7745985956747</td>\n",
       "      <td>Hayes Valley</td>\n",
       "      <td>...</td>\n",
       "      <td>23</td>\n",
       "      <td>1.000000</td>\n",
       "      <td>1.697407</td>\n",
       "      <td>0.043578</td>\n",
       "      <td>-0.107902</td>\n",
       "      <td>0.001276</td>\n",
       "      <td>0.007832</td>\n",
       "      <td>1.697407</td>\n",
       "      <td>-0.107902</td>\n",
       "      <td>0.007832</td>\n",
       "    </tr>\n",
       "    <tr>\n",
       "      <th>1</th>\n",
       "      <td>2015-05-13 23:53:00</td>\n",
       "      <td>OTHER OFFENSES</td>\n",
       "      <td>TRAFFIC VIOLATION ARREST</td>\n",
       "      <td>Wednesday</td>\n",
       "      <td>NORTHERN</td>\n",
       "      <td>ARREST, BOOKED</td>\n",
       "      <td>OAK ST / LAGUNA ST</td>\n",
       "      <td>-122.425891675136</td>\n",
       "      <td>37.7745985956747</td>\n",
       "      <td>Hayes Valley</td>\n",
       "      <td>...</td>\n",
       "      <td>23</td>\n",
       "      <td>1.000000</td>\n",
       "      <td>1.697407</td>\n",
       "      <td>0.043578</td>\n",
       "      <td>-0.107902</td>\n",
       "      <td>0.001276</td>\n",
       "      <td>0.007832</td>\n",
       "      <td>1.697407</td>\n",
       "      <td>-0.107902</td>\n",
       "      <td>0.007832</td>\n",
       "    </tr>\n",
       "    <tr>\n",
       "      <th>2</th>\n",
       "      <td>2015-05-13 23:33:00</td>\n",
       "      <td>OTHER OFFENSES</td>\n",
       "      <td>TRAFFIC VIOLATION ARREST</td>\n",
       "      <td>Wednesday</td>\n",
       "      <td>NORTHERN</td>\n",
       "      <td>ARREST, BOOKED</td>\n",
       "      <td>VANNESS AV / GREENWICH ST</td>\n",
       "      <td>-122.42436302145</td>\n",
       "      <td>37.8004143219856</td>\n",
       "      <td>Cow Hollow</td>\n",
       "      <td>...</td>\n",
       "      <td>23</td>\n",
       "      <td>0.999997</td>\n",
       "      <td>1.697397</td>\n",
       "      <td>0.044337</td>\n",
       "      <td>-0.057541</td>\n",
       "      <td>0.001770</td>\n",
       "      <td>0.064335</td>\n",
       "      <td>1.697397</td>\n",
       "      <td>-0.057541</td>\n",
       "      <td>0.064335</td>\n",
       "    </tr>\n",
       "    <tr>\n",
       "      <th>3</th>\n",
       "      <td>2015-05-13 23:30:00</td>\n",
       "      <td>LARCENY/THEFT</td>\n",
       "      <td>GRAND THEFT FROM LOCKED AUTO</td>\n",
       "      <td>Wednesday</td>\n",
       "      <td>NORTHERN</td>\n",
       "      <td>NONE</td>\n",
       "      <td>1500 Block of LOMBARD ST</td>\n",
       "      <td>-122.42699532676599</td>\n",
       "      <td>37.80087263276921</td>\n",
       "      <td>Cow Hollow</td>\n",
       "      <td>...</td>\n",
       "      <td>23</td>\n",
       "      <td>0.999996</td>\n",
       "      <td>1.697395</td>\n",
       "      <td>0.043030</td>\n",
       "      <td>-0.144262</td>\n",
       "      <td>0.001778</td>\n",
       "      <td>0.065338</td>\n",
       "      <td>1.697395</td>\n",
       "      <td>-0.144262</td>\n",
       "      <td>0.065338</td>\n",
       "    </tr>\n",
       "    <tr>\n",
       "      <th>4</th>\n",
       "      <td>2015-05-13 23:30:00</td>\n",
       "      <td>LARCENY/THEFT</td>\n",
       "      <td>GRAND THEFT FROM LOCKED AUTO</td>\n",
       "      <td>Wednesday</td>\n",
       "      <td>PARK</td>\n",
       "      <td>NONE</td>\n",
       "      <td>100 Block of BRODERICK ST</td>\n",
       "      <td>-122.438737622757</td>\n",
       "      <td>37.771541172057795</td>\n",
       "      <td>Haight-Ashbury</td>\n",
       "      <td>...</td>\n",
       "      <td>23</td>\n",
       "      <td>0.999996</td>\n",
       "      <td>1.697395</td>\n",
       "      <td>0.037198</td>\n",
       "      <td>-0.531112</td>\n",
       "      <td>0.001217</td>\n",
       "      <td>0.001140</td>\n",
       "      <td>1.697395</td>\n",
       "      <td>-0.531112</td>\n",
       "      <td>0.001140</td>\n",
       "    </tr>\n",
       "  </tbody>\n",
       "</table>\n",
       "<p>5 rows × 28 columns</p>\n",
       "</div>"
      ],
      "text/plain": [
       "                 Dates        Category                      Descript  \\\n",
       "0  2015-05-13 23:53:00        WARRANTS                WARRANT ARREST   \n",
       "1  2015-05-13 23:53:00  OTHER OFFENSES      TRAFFIC VIOLATION ARREST   \n",
       "2  2015-05-13 23:33:00  OTHER OFFENSES      TRAFFIC VIOLATION ARREST   \n",
       "3  2015-05-13 23:30:00   LARCENY/THEFT  GRAND THEFT FROM LOCKED AUTO   \n",
       "4  2015-05-13 23:30:00   LARCENY/THEFT  GRAND THEFT FROM LOCKED AUTO   \n",
       "\n",
       "   DayOfWeek PdDistrict      Resolution                    Address  \\\n",
       "0  Wednesday   NORTHERN  ARREST, BOOKED         OAK ST / LAGUNA ST   \n",
       "1  Wednesday   NORTHERN  ARREST, BOOKED         OAK ST / LAGUNA ST   \n",
       "2  Wednesday   NORTHERN  ARREST, BOOKED  VANNESS AV / GREENWICH ST   \n",
       "3  Wednesday   NORTHERN            NONE   1500 Block of LOMBARD ST   \n",
       "4  Wednesday       PARK            NONE  100 Block of BRODERICK ST   \n",
       "\n",
       "                     X                   Y    Neighborhood    ...    Hour  \\\n",
       "0    -122.425891675136    37.7745985956747    Hayes Valley    ...      23   \n",
       "1    -122.425891675136    37.7745985956747    Hayes Valley    ...      23   \n",
       "2     -122.42436302145    37.8004143219856      Cow Hollow    ...      23   \n",
       "3  -122.42699532676599   37.80087263276921      Cow Hollow    ...      23   \n",
       "4    -122.438737622757  37.771541172057795  Haight-Ashbury    ...      23   \n",
       "\n",
       "   DateNorm DateStand     XNorm    XStand     YNorm    YStand    DateNS  \\\n",
       "0  1.000000  1.697407  0.043578 -0.107902  0.001276  0.007832  1.697407   \n",
       "1  1.000000  1.697407  0.043578 -0.107902  0.001276  0.007832  1.697407   \n",
       "2  0.999997  1.697397  0.044337 -0.057541  0.001770  0.064335  1.697397   \n",
       "3  0.999996  1.697395  0.043030 -0.144262  0.001778  0.065338  1.697395   \n",
       "4  0.999996  1.697395  0.037198 -0.531112  0.001217  0.001140  1.697395   \n",
       "\n",
       "        XNS       YNS  \n",
       "0 -0.107902  0.007832  \n",
       "1 -0.107902  0.007832  \n",
       "2 -0.057541  0.064335  \n",
       "3 -0.144262  0.065338  \n",
       "4 -0.531112  0.001140  \n",
       "\n",
       "[5 rows x 28 columns]"
      ]
     },
     "execution_count": 17,
     "metadata": {},
     "output_type": "execute_result"
    }
   ],
   "source": [
    "# Another look at the data\n",
    "train_data_full.head()"
   ]
  },
  {
   "cell_type": "code",
   "execution_count": 131,
   "metadata": {
    "collapsed": true
   },
   "outputs": [],
   "source": [
    "# Convert crime labels to numbers\n",
    "leCrime = preprocessing.LabelEncoder()\n",
    "crime = leCrime.fit_transform(train_data_full.Category)"
   ]
  },
  {
   "cell_type": "code",
   "execution_count": 132,
   "metadata": {
    "collapsed": false,
    "scrolled": false
   },
   "outputs": [
    {
     "data": {
      "text/plain": [
       "array([ 0,  1,  2,  3,  4,  5,  6,  7,  8,  9, 10, 11, 12, 13, 14, 15, 16,\n",
       "       17, 18, 19, 20, 21, 22, 23, 24, 25, 26, 27, 28, 29, 30, 31, 32, 33,\n",
       "       34, 35, 36, 37, 38], dtype=int64)"
      ]
     },
     "execution_count": 132,
     "metadata": {},
     "output_type": "execute_result"
    }
   ],
   "source": [
    "# The \"crime\" variable is now a list of numbers ranging from 0 to 38\n",
    "np.unique(crime)"
   ]
  },
  {
   "cell_type": "code",
   "execution_count": 21,
   "metadata": {
    "collapsed": false
   },
   "outputs": [],
   "source": [
    "# Convert dates to date data type\n",
    "train_data_full['Dates']  = pd.to_datetime(train_data_full['Dates'])"
   ]
  },
  {
   "cell_type": "markdown",
   "metadata": {},
   "source": [
    "### Iteration 1\n",
    "\n",
    "### The features we want to focus on first for the NB and Logistic Regression models are:\n",
    "\n",
    "Day of Week  \n",
    "PD District  \n",
    "Hour"
   ]
  },
  {
   "cell_type": "code",
   "execution_count": 441,
   "metadata": {
    "collapsed": false
   },
   "outputs": [],
   "source": [
    "# Get binarized weekdays, districts, and hours\n",
    "days = pd.get_dummies(train_data_full.DayOfWeek)\n",
    "district = pd.get_dummies(train_data_full.PdDistrict)\n",
    "hour = pd.get_dummies(train_data_full.Hour)"
   ]
  },
  {
   "cell_type": "code",
   "execution_count": 430,
   "metadata": {
    "collapsed": false
   },
   "outputs": [],
   "source": [
    "# Build new array\n",
    "trainData1 = pd.concat([hour, days, district], axis=1)\n",
    "trainData1['crime']=crime"
   ]
  },
  {
   "cell_type": "code",
   "execution_count": 432,
   "metadata": {
    "collapsed": false,
    "scrolled": true
   },
   "outputs": [
    {
     "name": "stdout",
     "output_type": "stream",
     "text": [
      "['Monday', 'Saturday', 'Friday', 'Wednesday', 'Sunday', 'Thursday', 'Tuesday', 'BAYVIEW', 'RICHMOND', 'NORTHERN', 'CENTRAL', 'PARK', 'INGLESIDE', 'TARAVAL', 'SOUTHERN', 'MISSION', 'TENDERLOIN', '0:00', '13:00', '1:00', '3:00', '11:00', '12:00', '23:00', '18:00', '22:00', '15:00', '9:00', '16:00', '4:00', '2:00', '14:00', '20:00', '21:00', '6:00', '5:00', '8:00', '7:00', '17:00', '10:00', '19:00']\n"
     ]
    }
   ],
   "source": [
    "# Create list of features for slicing\n",
    "feature_day = list(set(np.unique(train_data_full[\"DayOfWeek\"])))\n",
    "feature_district = list(set(np.unique(train_data_full[\"PdDistrict\"])))\n",
    "feature_hour = list(set(np.unique(train_data_full[\"Hour\"])))\n",
    "features1 = feature_day + feature_district + feature_hour\n",
    "\n",
    "print(features1)\n",
    "feature_labels1 = ['Day of Week', 'PD District', 'Hour']"
   ]
  },
  {
   "cell_type": "code",
   "execution_count": 433,
   "metadata": {
    "collapsed": false,
    "scrolled": true
   },
   "outputs": [],
   "source": [
    "# Split data into training and validation sets\n",
    "training1, validation1 = train_test_split(trainData1, train_size=.60)"
   ]
  },
  {
   "cell_type": "code",
   "execution_count": 434,
   "metadata": {
    "collapsed": false
   },
   "outputs": [
    {
     "data": {
      "text/plain": [
       "2.5884192441493465"
      ]
     },
     "execution_count": 434,
     "metadata": {},
     "output_type": "execute_result"
    }
   ],
   "source": [
    "# Naive bayes\n",
    "alphas = {'alpha': [0.0, 0.0001, 0.001, 0.01, 0.1, 0.5, 1.0, 2.0, 10.0, 15.0, 20.0, 30.0, 40.0, 50.0, 80.0, 100.0, 200.0]}\n",
    "nb1 = best_e_nb(alphas,training1[features1],training1['crime'])  #get the best alpha via grid search\n",
    "alpha = nb1.best_params_['alpha']\n",
    "model_NB1 = BernoulliNB(alpha=alpha,binarize=0.5)\n",
    "model_NB1.fit(training1[features1], training1['crime'])\n",
    "predicted_NB1 = np.array(model_NB1.predict_proba(validation1[features1]))\n",
    "log_loss(validation1['crime'], predicted_NB1) "
   ]
  },
  {
   "cell_type": "code",
   "execution_count": 435,
   "metadata": {
    "collapsed": false
   },
   "outputs": [
    {
     "data": {
      "text/plain": [
       "2.5795629449574755"
      ]
     },
     "execution_count": 435,
     "metadata": {},
     "output_type": "execute_result"
    }
   ],
   "source": [
    "# Logistic regression\n",
    "#GridSearch takes too long for LR, we chose C of 1.0\n",
    "C = 1.0\n",
    "model_LR1 = LogisticRegression(C=C)\n",
    "model_LR1.fit(training1[features1], training1['crime'])\n",
    "predicted_LR1 = np.array(model_LR1.predict_proba(validation1[features1]))\n",
    "log_loss(validation1['crime'], predicted_LR1) "
   ]
  },
  {
   "cell_type": "markdown",
   "metadata": {},
   "source": [
    "### Iteration 2\n",
    "\n",
    "### The features we want to focus on next for the NB and Logistic Regression models are:\n",
    "\n",
    "Day of Week  \n",
    "Neighborhood  \n",
    "Hour\n",
    "\n",
    "#### The idea here is that the Neighborhood feature provides a finer focus on location than PD District"
   ]
  },
  {
   "cell_type": "code",
   "execution_count": 442,
   "metadata": {
    "collapsed": true
   },
   "outputs": [],
   "source": [
    "# Get binarized neighborhoods\n",
    "neighborhoods = pd.get_dummies(train_data_full.Neighborhood)"
   ]
  },
  {
   "cell_type": "code",
   "execution_count": 443,
   "metadata": {
    "collapsed": false
   },
   "outputs": [],
   "source": [
    "# Build new array\n",
    "trainData2 = pd.concat([hour, days, neighborhoods], axis=1)\n",
    "trainData2['crime']=crime"
   ]
  },
  {
   "cell_type": "code",
   "execution_count": 444,
   "metadata": {
    "collapsed": false,
    "scrolled": true
   },
   "outputs": [
    {
     "name": "stdout",
     "output_type": "stream",
     "text": [
      "['Monday', 'Saturday', 'Friday', 'Wednesday', 'Sunday', 'Thursday', 'Tuesday', 'Van Ness - Civic Center', 'Forest Knolls', 'Balboa Terrace', 'Diamond Heights', 'Nob Hill', 'Lake', 'Mission Terrace', 'North Beach', 'Treasure Island', 'Mission Bay', 'Lower Pacific Heights', 'Lakeshore', 'Western Addition', 'Inner Sunset', 'Bayview', 'Golden Gate Heights', 'Inner Richmond', 'Pacific Heights', 'Parnassus - Ashbury', 'Glen Park', 'Chinatown', 'Clarendon Heights', 'Miraloma Park', 'Westwood Highlands', 'Potrero Hill', 'Lakeside', 'Parkside', 'Crocker Amazon', 'Hunters Point', 'Haight-Ashbury', 'West Portal', 'Twin Peaks', 'Financial District', 'Forest Hill', 'Merced Heights', 'Cow Hollow', 'Yerba Buena Island', 'Sherwood Forest', 'Buena Vista Park', 'South Beach', 'Stonestown', 'Lone Mountain', 'Ingleside Heights', 'Presidio', 'Jordan Park - Laurel Heights', 'Corona Heights', 'Outer Richmond', 'Outer Sunset', 'Russian Hill', 'Mount Davidson Manor', 'Inner Parkside', 'Duboce Triangle', 'Central Sunset', 'St. Francis Wood', 'North Waterfront', 'Sea Cliff', 'Monterey Heights', 'Midtown Terrace', 'Hayes Valley', 'Mission', 'Outer Parkside', 'Central Richmond', 'Yerba Buena', 'Portola', 'Outer Mission', 'Excelsior', 'Sunnyside', 'North Panhandle', 'Westwood Park', 'Presidio Heights', 'Anza Vista', 'Visitacion Valley', 'Telegraph Hill', 'Bernal Heights', 'Ingleside', 'Golden Gate Park', 'Ingleside Terrace', 'South of Market', 'Central Waterfront - Dogpatch', 'Marina', 'Noe Valley', 'Eureka Valley - Dolores Heights - Castro', 'Downtown', '0:00', '13:00', '1:00', '3:00', '11:00', '12:00', '23:00', '18:00', '22:00', '15:00', '9:00', '16:00', '4:00', '2:00', '14:00', '20:00', '21:00', '6:00', '5:00', '8:00', '7:00', '17:00', '10:00', '19:00']\n"
     ]
    }
   ],
   "source": [
    "feature_day = list(set(np.unique(train_data_full[\"DayOfWeek\"])))\n",
    "feature_neighborhood = list(set(train_data_full[\"Neighborhood\"]))\n",
    "feature_hour = list(set(np.unique(train_data_full[\"Hour\"])))\n",
    "features2 = feature_day + feature_neighborhood + feature_hour\n",
    "features2.remove(None)\n",
    "\n",
    "print(features2)\n",
    "feature_labels2 = ['Day of Week', 'Neighborhood', 'Hour']"
   ]
  },
  {
   "cell_type": "code",
   "execution_count": 445,
   "metadata": {
    "collapsed": true
   },
   "outputs": [],
   "source": [
    "training2, validation2 = train_test_split(trainData2, train_size=.60)"
   ]
  },
  {
   "cell_type": "code",
   "execution_count": 446,
   "metadata": {
    "collapsed": false
   },
   "outputs": [
    {
     "data": {
      "text/plain": [
       "2.5690608626391058"
      ]
     },
     "execution_count": 446,
     "metadata": {},
     "output_type": "execute_result"
    }
   ],
   "source": [
    "# Naive bayes\n",
    "alphas = {'alpha': [0.0, 0.0001, 0.001, 0.01, 0.1, 0.5, 1.0, 2.0, 10.0, 15.0, 20.0, 30.0, 40.0, 50.0, 80.0, 100.0, 200.0]}\n",
    "nb2 = best_e_nb(alphas,training2[features2],training2['crime'])  #get the best alpha via grid search\n",
    "alpha = nb2.best_params_['alpha']\n",
    "model_NB2 = BernoulliNB(alpha=alpha,binarize=0.5)\n",
    "model_NB2.fit(training2[features2], training2['crime'])\n",
    "predicted_NB2 = np.array(model_NB2.predict_proba(validation2[features2]))\n",
    "log_loss(validation2['crime'], predicted_NB2)"
   ]
  },
  {
   "cell_type": "code",
   "execution_count": 447,
   "metadata": {
    "collapsed": false
   },
   "outputs": [
    {
     "data": {
      "text/plain": [
       "2.5560728782813591"
      ]
     },
     "execution_count": 447,
     "metadata": {},
     "output_type": "execute_result"
    }
   ],
   "source": [
    "# Logistic regression\n",
    "#GridSearch takes too long for LR, we chose C of 1.0\n",
    "C = 1.0\n",
    "model_LR2 = LogisticRegression(C=C)\n",
    "model_LR2.fit(training2[features2], training2['crime'])\n",
    "predicted_LR2 = np.array(model_LR2.predict_proba(validation2[features2]))\n",
    "log_loss(validation2['crime'], predicted_LR2) "
   ]
  },
  {
   "cell_type": "markdown",
   "metadata": {},
   "source": [
    "### Error Analysis\n",
    "\n",
    "#### Confusion Matrix"
   ]
  },
  {
   "cell_type": "code",
   "execution_count": 90,
   "metadata": {
    "collapsed": false,
    "scrolled": true
   },
   "outputs": [
    {
     "name": "stdout",
     "output_type": "stream",
     "text": [
      "['ARSON' 'ASSAULT' 'BAD CHECKS' 'BRIBERY' 'BURGLARY' 'DISORDERLY CONDUCT'\n",
      " 'DRIVING UNDER THE INFLUENCE' 'DRUG/NARCOTIC' 'DRUNKENNESS' 'EMBEZZLEMENT'\n",
      " 'EXTORTION' 'FAMILY OFFENSES' 'FORGERY/COUNTERFEITING' 'FRAUD' 'GAMBLING'\n",
      " 'KIDNAPPING' 'LARCENY/THEFT' 'LIQUOR LAWS' 'LOITERING' 'MISSING PERSON'\n",
      " 'NON-CRIMINAL' 'OTHER OFFENSES' 'PORNOGRAPHY/OBSCENE MAT' 'PROSTITUTION'\n",
      " 'RECOVERED VEHICLE' 'ROBBERY' 'RUNAWAY' 'SECONDARY CODES'\n",
      " 'SEX OFFENSES FORCIBLE' 'SEX OFFENSES NON FORCIBLE' 'STOLEN PROPERTY'\n",
      " 'SUICIDE' 'SUSPICIOUS OCC' 'TREA' 'TRESPASS' 'VANDALISM' 'VEHICLE THEFT'\n",
      " 'WARRANTS' 'WEAPON LAWS']\n"
     ]
    }
   ],
   "source": [
    "# Determine if this is the order of categories for the confusion matrix -- yes, it is\n",
    "categories = np.unique(train_data_full.Category)\n",
    "print(categories)"
   ]
  },
  {
   "cell_type": "code",
   "execution_count": 91,
   "metadata": {
    "collapsed": false
   },
   "outputs": [
    {
     "data": {
      "text/plain": [
       "array([ 0,  1,  2,  3,  4,  5,  6,  7,  8,  9, 10, 11, 12, 13, 14, 15, 16,\n",
       "       17, 18, 19, 20, 21, 22, 23, 24, 25, 26, 27, 28, 29, 30, 31, 32, 33,\n",
       "       34, 35, 36, 37, 38], dtype=int64)"
      ]
     },
     "execution_count": 91,
     "metadata": {},
     "output_type": "execute_result"
    }
   ],
   "source": [
    "categories_encoded = leCrime.transform(categories) \n",
    "categories_encoded"
   ]
  },
  {
   "cell_type": "code",
   "execution_count": 94,
   "metadata": {
    "collapsed": false,
    "scrolled": true
   },
   "outputs": [
    {
     "data": {
      "text/html": [
       "<div>\n",
       "<table border=\"1\" class=\"dataframe\">\n",
       "  <thead>\n",
       "    <tr style=\"text-align: right;\">\n",
       "      <th></th>\n",
       "      <th>0</th>\n",
       "      <th>1</th>\n",
       "      <th>2</th>\n",
       "      <th>3</th>\n",
       "      <th>4</th>\n",
       "      <th>5</th>\n",
       "      <th>6</th>\n",
       "      <th>7</th>\n",
       "      <th>8</th>\n",
       "      <th>9</th>\n",
       "      <th>...</th>\n",
       "      <th>29</th>\n",
       "      <th>30</th>\n",
       "      <th>31</th>\n",
       "      <th>32</th>\n",
       "      <th>33</th>\n",
       "      <th>34</th>\n",
       "      <th>35</th>\n",
       "      <th>36</th>\n",
       "      <th>37</th>\n",
       "      <th>38</th>\n",
       "    </tr>\n",
       "  </thead>\n",
       "  <tbody>\n",
       "    <tr>\n",
       "      <th>0</th>\n",
       "      <td>0</td>\n",
       "      <td>51</td>\n",
       "      <td>0</td>\n",
       "      <td>0</td>\n",
       "      <td>9</td>\n",
       "      <td>0</td>\n",
       "      <td>0</td>\n",
       "      <td>8</td>\n",
       "      <td>0</td>\n",
       "      <td>0</td>\n",
       "      <td>...</td>\n",
       "      <td>0</td>\n",
       "      <td>0</td>\n",
       "      <td>0</td>\n",
       "      <td>0</td>\n",
       "      <td>0</td>\n",
       "      <td>0</td>\n",
       "      <td>3</td>\n",
       "      <td>17</td>\n",
       "      <td>0</td>\n",
       "      <td>0</td>\n",
       "    </tr>\n",
       "    <tr>\n",
       "      <th>1</th>\n",
       "      <td>0</td>\n",
       "      <td>1711</td>\n",
       "      <td>0</td>\n",
       "      <td>0</td>\n",
       "      <td>45</td>\n",
       "      <td>1</td>\n",
       "      <td>0</td>\n",
       "      <td>1090</td>\n",
       "      <td>0</td>\n",
       "      <td>0</td>\n",
       "      <td>...</td>\n",
       "      <td>0</td>\n",
       "      <td>0</td>\n",
       "      <td>0</td>\n",
       "      <td>0</td>\n",
       "      <td>0</td>\n",
       "      <td>0</td>\n",
       "      <td>48</td>\n",
       "      <td>687</td>\n",
       "      <td>0</td>\n",
       "      <td>0</td>\n",
       "    </tr>\n",
       "    <tr>\n",
       "      <th>2</th>\n",
       "      <td>0</td>\n",
       "      <td>0</td>\n",
       "      <td>0</td>\n",
       "      <td>0</td>\n",
       "      <td>0</td>\n",
       "      <td>0</td>\n",
       "      <td>0</td>\n",
       "      <td>7</td>\n",
       "      <td>0</td>\n",
       "      <td>0</td>\n",
       "      <td>...</td>\n",
       "      <td>0</td>\n",
       "      <td>0</td>\n",
       "      <td>0</td>\n",
       "      <td>0</td>\n",
       "      <td>0</td>\n",
       "      <td>0</td>\n",
       "      <td>0</td>\n",
       "      <td>1</td>\n",
       "      <td>0</td>\n",
       "      <td>0</td>\n",
       "    </tr>\n",
       "    <tr>\n",
       "      <th>3</th>\n",
       "      <td>0</td>\n",
       "      <td>2</td>\n",
       "      <td>0</td>\n",
       "      <td>0</td>\n",
       "      <td>0</td>\n",
       "      <td>0</td>\n",
       "      <td>0</td>\n",
       "      <td>2</td>\n",
       "      <td>0</td>\n",
       "      <td>0</td>\n",
       "      <td>...</td>\n",
       "      <td>0</td>\n",
       "      <td>0</td>\n",
       "      <td>0</td>\n",
       "      <td>0</td>\n",
       "      <td>0</td>\n",
       "      <td>0</td>\n",
       "      <td>0</td>\n",
       "      <td>3</td>\n",
       "      <td>0</td>\n",
       "      <td>0</td>\n",
       "    </tr>\n",
       "    <tr>\n",
       "      <th>4</th>\n",
       "      <td>0</td>\n",
       "      <td>340</td>\n",
       "      <td>0</td>\n",
       "      <td>0</td>\n",
       "      <td>121</td>\n",
       "      <td>0</td>\n",
       "      <td>0</td>\n",
       "      <td>228</td>\n",
       "      <td>0</td>\n",
       "      <td>0</td>\n",
       "      <td>...</td>\n",
       "      <td>0</td>\n",
       "      <td>0</td>\n",
       "      <td>0</td>\n",
       "      <td>0</td>\n",
       "      <td>0</td>\n",
       "      <td>0</td>\n",
       "      <td>27</td>\n",
       "      <td>219</td>\n",
       "      <td>0</td>\n",
       "      <td>0</td>\n",
       "    </tr>\n",
       "    <tr>\n",
       "      <th>5</th>\n",
       "      <td>0</td>\n",
       "      <td>59</td>\n",
       "      <td>0</td>\n",
       "      <td>0</td>\n",
       "      <td>6</td>\n",
       "      <td>0</td>\n",
       "      <td>0</td>\n",
       "      <td>47</td>\n",
       "      <td>0</td>\n",
       "      <td>0</td>\n",
       "      <td>...</td>\n",
       "      <td>0</td>\n",
       "      <td>0</td>\n",
       "      <td>0</td>\n",
       "      <td>0</td>\n",
       "      <td>0</td>\n",
       "      <td>0</td>\n",
       "      <td>0</td>\n",
       "      <td>11</td>\n",
       "      <td>0</td>\n",
       "      <td>0</td>\n",
       "    </tr>\n",
       "    <tr>\n",
       "      <th>6</th>\n",
       "      <td>0</td>\n",
       "      <td>68</td>\n",
       "      <td>0</td>\n",
       "      <td>0</td>\n",
       "      <td>2</td>\n",
       "      <td>0</td>\n",
       "      <td>0</td>\n",
       "      <td>9</td>\n",
       "      <td>0</td>\n",
       "      <td>0</td>\n",
       "      <td>...</td>\n",
       "      <td>0</td>\n",
       "      <td>0</td>\n",
       "      <td>0</td>\n",
       "      <td>0</td>\n",
       "      <td>0</td>\n",
       "      <td>0</td>\n",
       "      <td>5</td>\n",
       "      <td>30</td>\n",
       "      <td>0</td>\n",
       "      <td>0</td>\n",
       "    </tr>\n",
       "    <tr>\n",
       "      <th>7</th>\n",
       "      <td>0</td>\n",
       "      <td>361</td>\n",
       "      <td>0</td>\n",
       "      <td>0</td>\n",
       "      <td>14</td>\n",
       "      <td>0</td>\n",
       "      <td>0</td>\n",
       "      <td>2432</td>\n",
       "      <td>0</td>\n",
       "      <td>0</td>\n",
       "      <td>...</td>\n",
       "      <td>0</td>\n",
       "      <td>0</td>\n",
       "      <td>0</td>\n",
       "      <td>0</td>\n",
       "      <td>0</td>\n",
       "      <td>0</td>\n",
       "      <td>9</td>\n",
       "      <td>206</td>\n",
       "      <td>0</td>\n",
       "      <td>0</td>\n",
       "    </tr>\n",
       "    <tr>\n",
       "      <th>8</th>\n",
       "      <td>0</td>\n",
       "      <td>99</td>\n",
       "      <td>0</td>\n",
       "      <td>0</td>\n",
       "      <td>2</td>\n",
       "      <td>0</td>\n",
       "      <td>0</td>\n",
       "      <td>61</td>\n",
       "      <td>0</td>\n",
       "      <td>0</td>\n",
       "      <td>...</td>\n",
       "      <td>0</td>\n",
       "      <td>0</td>\n",
       "      <td>0</td>\n",
       "      <td>0</td>\n",
       "      <td>0</td>\n",
       "      <td>0</td>\n",
       "      <td>4</td>\n",
       "      <td>27</td>\n",
       "      <td>0</td>\n",
       "      <td>0</td>\n",
       "    </tr>\n",
       "    <tr>\n",
       "      <th>9</th>\n",
       "      <td>0</td>\n",
       "      <td>5</td>\n",
       "      <td>0</td>\n",
       "      <td>0</td>\n",
       "      <td>0</td>\n",
       "      <td>0</td>\n",
       "      <td>0</td>\n",
       "      <td>8</td>\n",
       "      <td>0</td>\n",
       "      <td>0</td>\n",
       "      <td>...</td>\n",
       "      <td>0</td>\n",
       "      <td>0</td>\n",
       "      <td>0</td>\n",
       "      <td>0</td>\n",
       "      <td>0</td>\n",
       "      <td>0</td>\n",
       "      <td>1</td>\n",
       "      <td>2</td>\n",
       "      <td>0</td>\n",
       "      <td>0</td>\n",
       "    </tr>\n",
       "    <tr>\n",
       "      <th>10</th>\n",
       "      <td>0</td>\n",
       "      <td>2</td>\n",
       "      <td>0</td>\n",
       "      <td>0</td>\n",
       "      <td>0</td>\n",
       "      <td>0</td>\n",
       "      <td>0</td>\n",
       "      <td>1</td>\n",
       "      <td>0</td>\n",
       "      <td>0</td>\n",
       "      <td>...</td>\n",
       "      <td>0</td>\n",
       "      <td>0</td>\n",
       "      <td>0</td>\n",
       "      <td>0</td>\n",
       "      <td>0</td>\n",
       "      <td>0</td>\n",
       "      <td>0</td>\n",
       "      <td>1</td>\n",
       "      <td>0</td>\n",
       "      <td>0</td>\n",
       "    </tr>\n",
       "    <tr>\n",
       "      <th>11</th>\n",
       "      <td>0</td>\n",
       "      <td>7</td>\n",
       "      <td>0</td>\n",
       "      <td>0</td>\n",
       "      <td>0</td>\n",
       "      <td>0</td>\n",
       "      <td>0</td>\n",
       "      <td>5</td>\n",
       "      <td>0</td>\n",
       "      <td>0</td>\n",
       "      <td>...</td>\n",
       "      <td>0</td>\n",
       "      <td>0</td>\n",
       "      <td>0</td>\n",
       "      <td>0</td>\n",
       "      <td>0</td>\n",
       "      <td>0</td>\n",
       "      <td>1</td>\n",
       "      <td>3</td>\n",
       "      <td>0</td>\n",
       "      <td>0</td>\n",
       "    </tr>\n",
       "    <tr>\n",
       "      <th>12</th>\n",
       "      <td>0</td>\n",
       "      <td>33</td>\n",
       "      <td>0</td>\n",
       "      <td>0</td>\n",
       "      <td>5</td>\n",
       "      <td>0</td>\n",
       "      <td>0</td>\n",
       "      <td>177</td>\n",
       "      <td>0</td>\n",
       "      <td>0</td>\n",
       "      <td>...</td>\n",
       "      <td>0</td>\n",
       "      <td>0</td>\n",
       "      <td>0</td>\n",
       "      <td>0</td>\n",
       "      <td>0</td>\n",
       "      <td>0</td>\n",
       "      <td>1</td>\n",
       "      <td>32</td>\n",
       "      <td>0</td>\n",
       "      <td>0</td>\n",
       "    </tr>\n",
       "    <tr>\n",
       "      <th>13</th>\n",
       "      <td>0</td>\n",
       "      <td>102</td>\n",
       "      <td>0</td>\n",
       "      <td>0</td>\n",
       "      <td>10</td>\n",
       "      <td>0</td>\n",
       "      <td>0</td>\n",
       "      <td>208</td>\n",
       "      <td>0</td>\n",
       "      <td>0</td>\n",
       "      <td>...</td>\n",
       "      <td>0</td>\n",
       "      <td>0</td>\n",
       "      <td>0</td>\n",
       "      <td>0</td>\n",
       "      <td>0</td>\n",
       "      <td>0</td>\n",
       "      <td>4</td>\n",
       "      <td>49</td>\n",
       "      <td>0</td>\n",
       "      <td>0</td>\n",
       "    </tr>\n",
       "    <tr>\n",
       "      <th>14</th>\n",
       "      <td>0</td>\n",
       "      <td>0</td>\n",
       "      <td>0</td>\n",
       "      <td>0</td>\n",
       "      <td>0</td>\n",
       "      <td>0</td>\n",
       "      <td>0</td>\n",
       "      <td>1</td>\n",
       "      <td>0</td>\n",
       "      <td>0</td>\n",
       "      <td>...</td>\n",
       "      <td>0</td>\n",
       "      <td>0</td>\n",
       "      <td>0</td>\n",
       "      <td>0</td>\n",
       "      <td>0</td>\n",
       "      <td>0</td>\n",
       "      <td>0</td>\n",
       "      <td>2</td>\n",
       "      <td>0</td>\n",
       "      <td>0</td>\n",
       "    </tr>\n",
       "    <tr>\n",
       "      <th>15</th>\n",
       "      <td>0</td>\n",
       "      <td>51</td>\n",
       "      <td>0</td>\n",
       "      <td>0</td>\n",
       "      <td>2</td>\n",
       "      <td>0</td>\n",
       "      <td>0</td>\n",
       "      <td>26</td>\n",
       "      <td>0</td>\n",
       "      <td>0</td>\n",
       "      <td>...</td>\n",
       "      <td>0</td>\n",
       "      <td>0</td>\n",
       "      <td>0</td>\n",
       "      <td>0</td>\n",
       "      <td>0</td>\n",
       "      <td>0</td>\n",
       "      <td>3</td>\n",
       "      <td>15</td>\n",
       "      <td>0</td>\n",
       "      <td>0</td>\n",
       "    </tr>\n",
       "    <tr>\n",
       "      <th>16</th>\n",
       "      <td>0</td>\n",
       "      <td>1352</td>\n",
       "      <td>0</td>\n",
       "      <td>0</td>\n",
       "      <td>153</td>\n",
       "      <td>5</td>\n",
       "      <td>0</td>\n",
       "      <td>2083</td>\n",
       "      <td>0</td>\n",
       "      <td>0</td>\n",
       "      <td>...</td>\n",
       "      <td>0</td>\n",
       "      <td>0</td>\n",
       "      <td>0</td>\n",
       "      <td>1</td>\n",
       "      <td>0</td>\n",
       "      <td>0</td>\n",
       "      <td>79</td>\n",
       "      <td>1013</td>\n",
       "      <td>0</td>\n",
       "      <td>0</td>\n",
       "    </tr>\n",
       "    <tr>\n",
       "      <th>17</th>\n",
       "      <td>0</td>\n",
       "      <td>19</td>\n",
       "      <td>0</td>\n",
       "      <td>0</td>\n",
       "      <td>2</td>\n",
       "      <td>0</td>\n",
       "      <td>0</td>\n",
       "      <td>44</td>\n",
       "      <td>0</td>\n",
       "      <td>0</td>\n",
       "      <td>...</td>\n",
       "      <td>0</td>\n",
       "      <td>0</td>\n",
       "      <td>0</td>\n",
       "      <td>0</td>\n",
       "      <td>0</td>\n",
       "      <td>0</td>\n",
       "      <td>1</td>\n",
       "      <td>4</td>\n",
       "      <td>0</td>\n",
       "      <td>0</td>\n",
       "    </tr>\n",
       "    <tr>\n",
       "      <th>18</th>\n",
       "      <td>0</td>\n",
       "      <td>8</td>\n",
       "      <td>0</td>\n",
       "      <td>0</td>\n",
       "      <td>3</td>\n",
       "      <td>0</td>\n",
       "      <td>0</td>\n",
       "      <td>31</td>\n",
       "      <td>0</td>\n",
       "      <td>0</td>\n",
       "      <td>...</td>\n",
       "      <td>0</td>\n",
       "      <td>0</td>\n",
       "      <td>0</td>\n",
       "      <td>0</td>\n",
       "      <td>0</td>\n",
       "      <td>0</td>\n",
       "      <td>0</td>\n",
       "      <td>1</td>\n",
       "      <td>0</td>\n",
       "      <td>0</td>\n",
       "    </tr>\n",
       "    <tr>\n",
       "      <th>19</th>\n",
       "      <td>0</td>\n",
       "      <td>244</td>\n",
       "      <td>0</td>\n",
       "      <td>0</td>\n",
       "      <td>15</td>\n",
       "      <td>0</td>\n",
       "      <td>0</td>\n",
       "      <td>228</td>\n",
       "      <td>0</td>\n",
       "      <td>0</td>\n",
       "      <td>...</td>\n",
       "      <td>0</td>\n",
       "      <td>0</td>\n",
       "      <td>0</td>\n",
       "      <td>0</td>\n",
       "      <td>0</td>\n",
       "      <td>0</td>\n",
       "      <td>5</td>\n",
       "      <td>370</td>\n",
       "      <td>0</td>\n",
       "      <td>0</td>\n",
       "    </tr>\n",
       "    <tr>\n",
       "      <th>20</th>\n",
       "      <td>0</td>\n",
       "      <td>826</td>\n",
       "      <td>0</td>\n",
       "      <td>0</td>\n",
       "      <td>77</td>\n",
       "      <td>0</td>\n",
       "      <td>1</td>\n",
       "      <td>1624</td>\n",
       "      <td>0</td>\n",
       "      <td>0</td>\n",
       "      <td>...</td>\n",
       "      <td>0</td>\n",
       "      <td>0</td>\n",
       "      <td>0</td>\n",
       "      <td>0</td>\n",
       "      <td>0</td>\n",
       "      <td>0</td>\n",
       "      <td>42</td>\n",
       "      <td>495</td>\n",
       "      <td>0</td>\n",
       "      <td>0</td>\n",
       "    </tr>\n",
       "    <tr>\n",
       "      <th>21</th>\n",
       "      <td>0</td>\n",
       "      <td>1366</td>\n",
       "      <td>0</td>\n",
       "      <td>0</td>\n",
       "      <td>112</td>\n",
       "      <td>1</td>\n",
       "      <td>0</td>\n",
       "      <td>2377</td>\n",
       "      <td>0</td>\n",
       "      <td>0</td>\n",
       "      <td>...</td>\n",
       "      <td>0</td>\n",
       "      <td>0</td>\n",
       "      <td>0</td>\n",
       "      <td>0</td>\n",
       "      <td>0</td>\n",
       "      <td>0</td>\n",
       "      <td>58</td>\n",
       "      <td>947</td>\n",
       "      <td>0</td>\n",
       "      <td>0</td>\n",
       "    </tr>\n",
       "    <tr>\n",
       "      <th>22</th>\n",
       "      <td>0</td>\n",
       "      <td>0</td>\n",
       "      <td>0</td>\n",
       "      <td>0</td>\n",
       "      <td>0</td>\n",
       "      <td>0</td>\n",
       "      <td>0</td>\n",
       "      <td>0</td>\n",
       "      <td>0</td>\n",
       "      <td>0</td>\n",
       "      <td>...</td>\n",
       "      <td>0</td>\n",
       "      <td>0</td>\n",
       "      <td>0</td>\n",
       "      <td>0</td>\n",
       "      <td>0</td>\n",
       "      <td>0</td>\n",
       "      <td>0</td>\n",
       "      <td>0</td>\n",
       "      <td>0</td>\n",
       "      <td>0</td>\n",
       "    </tr>\n",
       "    <tr>\n",
       "      <th>23</th>\n",
       "      <td>0</td>\n",
       "      <td>122</td>\n",
       "      <td>0</td>\n",
       "      <td>0</td>\n",
       "      <td>42</td>\n",
       "      <td>0</td>\n",
       "      <td>0</td>\n",
       "      <td>10</td>\n",
       "      <td>0</td>\n",
       "      <td>0</td>\n",
       "      <td>...</td>\n",
       "      <td>0</td>\n",
       "      <td>0</td>\n",
       "      <td>0</td>\n",
       "      <td>0</td>\n",
       "      <td>0</td>\n",
       "      <td>0</td>\n",
       "      <td>0</td>\n",
       "      <td>1</td>\n",
       "      <td>0</td>\n",
       "      <td>0</td>\n",
       "    </tr>\n",
       "    <tr>\n",
       "      <th>24</th>\n",
       "      <td>0</td>\n",
       "      <td>51</td>\n",
       "      <td>0</td>\n",
       "      <td>0</td>\n",
       "      <td>2</td>\n",
       "      <td>0</td>\n",
       "      <td>0</td>\n",
       "      <td>35</td>\n",
       "      <td>0</td>\n",
       "      <td>0</td>\n",
       "      <td>...</td>\n",
       "      <td>0</td>\n",
       "      <td>0</td>\n",
       "      <td>0</td>\n",
       "      <td>0</td>\n",
       "      <td>0</td>\n",
       "      <td>0</td>\n",
       "      <td>2</td>\n",
       "      <td>24</td>\n",
       "      <td>0</td>\n",
       "      <td>0</td>\n",
       "    </tr>\n",
       "    <tr>\n",
       "      <th>25</th>\n",
       "      <td>0</td>\n",
       "      <td>515</td>\n",
       "      <td>0</td>\n",
       "      <td>0</td>\n",
       "      <td>15</td>\n",
       "      <td>0</td>\n",
       "      <td>2</td>\n",
       "      <td>255</td>\n",
       "      <td>0</td>\n",
       "      <td>0</td>\n",
       "      <td>...</td>\n",
       "      <td>0</td>\n",
       "      <td>0</td>\n",
       "      <td>0</td>\n",
       "      <td>0</td>\n",
       "      <td>0</td>\n",
       "      <td>0</td>\n",
       "      <td>16</td>\n",
       "      <td>339</td>\n",
       "      <td>0</td>\n",
       "      <td>0</td>\n",
       "    </tr>\n",
       "    <tr>\n",
       "      <th>26</th>\n",
       "      <td>0</td>\n",
       "      <td>15</td>\n",
       "      <td>0</td>\n",
       "      <td>0</td>\n",
       "      <td>4</td>\n",
       "      <td>0</td>\n",
       "      <td>0</td>\n",
       "      <td>9</td>\n",
       "      <td>0</td>\n",
       "      <td>0</td>\n",
       "      <td>...</td>\n",
       "      <td>0</td>\n",
       "      <td>0</td>\n",
       "      <td>0</td>\n",
       "      <td>0</td>\n",
       "      <td>0</td>\n",
       "      <td>0</td>\n",
       "      <td>0</td>\n",
       "      <td>18</td>\n",
       "      <td>0</td>\n",
       "      <td>0</td>\n",
       "    </tr>\n",
       "    <tr>\n",
       "      <th>27</th>\n",
       "      <td>0</td>\n",
       "      <td>214</td>\n",
       "      <td>0</td>\n",
       "      <td>0</td>\n",
       "      <td>7</td>\n",
       "      <td>0</td>\n",
       "      <td>0</td>\n",
       "      <td>98</td>\n",
       "      <td>0</td>\n",
       "      <td>0</td>\n",
       "      <td>...</td>\n",
       "      <td>0</td>\n",
       "      <td>0</td>\n",
       "      <td>0</td>\n",
       "      <td>0</td>\n",
       "      <td>0</td>\n",
       "      <td>0</td>\n",
       "      <td>5</td>\n",
       "      <td>103</td>\n",
       "      <td>0</td>\n",
       "      <td>0</td>\n",
       "    </tr>\n",
       "    <tr>\n",
       "      <th>28</th>\n",
       "      <td>0</td>\n",
       "      <td>90</td>\n",
       "      <td>0</td>\n",
       "      <td>0</td>\n",
       "      <td>2</td>\n",
       "      <td>0</td>\n",
       "      <td>0</td>\n",
       "      <td>40</td>\n",
       "      <td>0</td>\n",
       "      <td>0</td>\n",
       "      <td>...</td>\n",
       "      <td>0</td>\n",
       "      <td>0</td>\n",
       "      <td>0</td>\n",
       "      <td>0</td>\n",
       "      <td>0</td>\n",
       "      <td>0</td>\n",
       "      <td>7</td>\n",
       "      <td>25</td>\n",
       "      <td>0</td>\n",
       "      <td>0</td>\n",
       "    </tr>\n",
       "    <tr>\n",
       "      <th>29</th>\n",
       "      <td>0</td>\n",
       "      <td>0</td>\n",
       "      <td>0</td>\n",
       "      <td>0</td>\n",
       "      <td>0</td>\n",
       "      <td>0</td>\n",
       "      <td>0</td>\n",
       "      <td>1</td>\n",
       "      <td>0</td>\n",
       "      <td>0</td>\n",
       "      <td>...</td>\n",
       "      <td>0</td>\n",
       "      <td>0</td>\n",
       "      <td>0</td>\n",
       "      <td>0</td>\n",
       "      <td>0</td>\n",
       "      <td>0</td>\n",
       "      <td>0</td>\n",
       "      <td>2</td>\n",
       "      <td>0</td>\n",
       "      <td>0</td>\n",
       "    </tr>\n",
       "    <tr>\n",
       "      <th>30</th>\n",
       "      <td>0</td>\n",
       "      <td>38</td>\n",
       "      <td>0</td>\n",
       "      <td>0</td>\n",
       "      <td>8</td>\n",
       "      <td>1</td>\n",
       "      <td>0</td>\n",
       "      <td>90</td>\n",
       "      <td>0</td>\n",
       "      <td>0</td>\n",
       "      <td>...</td>\n",
       "      <td>0</td>\n",
       "      <td>0</td>\n",
       "      <td>0</td>\n",
       "      <td>0</td>\n",
       "      <td>0</td>\n",
       "      <td>0</td>\n",
       "      <td>2</td>\n",
       "      <td>29</td>\n",
       "      <td>0</td>\n",
       "      <td>0</td>\n",
       "    </tr>\n",
       "    <tr>\n",
       "      <th>31</th>\n",
       "      <td>0</td>\n",
       "      <td>9</td>\n",
       "      <td>0</td>\n",
       "      <td>0</td>\n",
       "      <td>1</td>\n",
       "      <td>0</td>\n",
       "      <td>0</td>\n",
       "      <td>5</td>\n",
       "      <td>0</td>\n",
       "      <td>0</td>\n",
       "      <td>...</td>\n",
       "      <td>0</td>\n",
       "      <td>0</td>\n",
       "      <td>0</td>\n",
       "      <td>0</td>\n",
       "      <td>0</td>\n",
       "      <td>0</td>\n",
       "      <td>0</td>\n",
       "      <td>1</td>\n",
       "      <td>0</td>\n",
       "      <td>0</td>\n",
       "    </tr>\n",
       "    <tr>\n",
       "      <th>32</th>\n",
       "      <td>0</td>\n",
       "      <td>436</td>\n",
       "      <td>0</td>\n",
       "      <td>0</td>\n",
       "      <td>36</td>\n",
       "      <td>1</td>\n",
       "      <td>0</td>\n",
       "      <td>463</td>\n",
       "      <td>0</td>\n",
       "      <td>0</td>\n",
       "      <td>...</td>\n",
       "      <td>0</td>\n",
       "      <td>0</td>\n",
       "      <td>0</td>\n",
       "      <td>0</td>\n",
       "      <td>0</td>\n",
       "      <td>0</td>\n",
       "      <td>16</td>\n",
       "      <td>217</td>\n",
       "      <td>0</td>\n",
       "      <td>0</td>\n",
       "    </tr>\n",
       "    <tr>\n",
       "      <th>33</th>\n",
       "      <td>0</td>\n",
       "      <td>0</td>\n",
       "      <td>0</td>\n",
       "      <td>0</td>\n",
       "      <td>0</td>\n",
       "      <td>0</td>\n",
       "      <td>0</td>\n",
       "      <td>0</td>\n",
       "      <td>0</td>\n",
       "      <td>0</td>\n",
       "      <td>...</td>\n",
       "      <td>0</td>\n",
       "      <td>0</td>\n",
       "      <td>0</td>\n",
       "      <td>0</td>\n",
       "      <td>0</td>\n",
       "      <td>0</td>\n",
       "      <td>0</td>\n",
       "      <td>0</td>\n",
       "      <td>0</td>\n",
       "      <td>0</td>\n",
       "    </tr>\n",
       "    <tr>\n",
       "      <th>34</th>\n",
       "      <td>0</td>\n",
       "      <td>59</td>\n",
       "      <td>0</td>\n",
       "      <td>0</td>\n",
       "      <td>8</td>\n",
       "      <td>0</td>\n",
       "      <td>0</td>\n",
       "      <td>106</td>\n",
       "      <td>0</td>\n",
       "      <td>0</td>\n",
       "      <td>...</td>\n",
       "      <td>0</td>\n",
       "      <td>0</td>\n",
       "      <td>0</td>\n",
       "      <td>0</td>\n",
       "      <td>0</td>\n",
       "      <td>0</td>\n",
       "      <td>1</td>\n",
       "      <td>22</td>\n",
       "      <td>0</td>\n",
       "      <td>0</td>\n",
       "    </tr>\n",
       "    <tr>\n",
       "      <th>35</th>\n",
       "      <td>0</td>\n",
       "      <td>852</td>\n",
       "      <td>0</td>\n",
       "      <td>0</td>\n",
       "      <td>73</td>\n",
       "      <td>0</td>\n",
       "      <td>0</td>\n",
       "      <td>300</td>\n",
       "      <td>0</td>\n",
       "      <td>0</td>\n",
       "      <td>...</td>\n",
       "      <td>0</td>\n",
       "      <td>0</td>\n",
       "      <td>0</td>\n",
       "      <td>0</td>\n",
       "      <td>0</td>\n",
       "      <td>0</td>\n",
       "      <td>54</td>\n",
       "      <td>618</td>\n",
       "      <td>0</td>\n",
       "      <td>0</td>\n",
       "    </tr>\n",
       "    <tr>\n",
       "      <th>36</th>\n",
       "      <td>0</td>\n",
       "      <td>686</td>\n",
       "      <td>0</td>\n",
       "      <td>0</td>\n",
       "      <td>71</td>\n",
       "      <td>0</td>\n",
       "      <td>0</td>\n",
       "      <td>269</td>\n",
       "      <td>0</td>\n",
       "      <td>0</td>\n",
       "      <td>...</td>\n",
       "      <td>0</td>\n",
       "      <td>0</td>\n",
       "      <td>0</td>\n",
       "      <td>0</td>\n",
       "      <td>0</td>\n",
       "      <td>0</td>\n",
       "      <td>50</td>\n",
       "      <td>1185</td>\n",
       "      <td>0</td>\n",
       "      <td>0</td>\n",
       "    </tr>\n",
       "    <tr>\n",
       "      <th>37</th>\n",
       "      <td>0</td>\n",
       "      <td>392</td>\n",
       "      <td>0</td>\n",
       "      <td>0</td>\n",
       "      <td>26</td>\n",
       "      <td>0</td>\n",
       "      <td>0</td>\n",
       "      <td>1271</td>\n",
       "      <td>0</td>\n",
       "      <td>0</td>\n",
       "      <td>...</td>\n",
       "      <td>0</td>\n",
       "      <td>0</td>\n",
       "      <td>0</td>\n",
       "      <td>0</td>\n",
       "      <td>0</td>\n",
       "      <td>0</td>\n",
       "      <td>7</td>\n",
       "      <td>176</td>\n",
       "      <td>0</td>\n",
       "      <td>0</td>\n",
       "    </tr>\n",
       "    <tr>\n",
       "      <th>38</th>\n",
       "      <td>0</td>\n",
       "      <td>220</td>\n",
       "      <td>0</td>\n",
       "      <td>0</td>\n",
       "      <td>5</td>\n",
       "      <td>1</td>\n",
       "      <td>0</td>\n",
       "      <td>117</td>\n",
       "      <td>0</td>\n",
       "      <td>0</td>\n",
       "      <td>...</td>\n",
       "      <td>0</td>\n",
       "      <td>0</td>\n",
       "      <td>0</td>\n",
       "      <td>0</td>\n",
       "      <td>0</td>\n",
       "      <td>0</td>\n",
       "      <td>6</td>\n",
       "      <td>75</td>\n",
       "      <td>0</td>\n",
       "      <td>0</td>\n",
       "    </tr>\n",
       "  </tbody>\n",
       "</table>\n",
       "<p>39 rows × 39 columns</p>\n",
       "</div>"
      ],
      "text/plain": [
       "    0     1   2   3    4   5   6     7   8   9  ...  29  30  31  32  33  34  \\\n",
       "0    0    51   0   0    9   0   0     8   0   0 ...   0   0   0   0   0   0   \n",
       "1    0  1711   0   0   45   1   0  1090   0   0 ...   0   0   0   0   0   0   \n",
       "2    0     0   0   0    0   0   0     7   0   0 ...   0   0   0   0   0   0   \n",
       "3    0     2   0   0    0   0   0     2   0   0 ...   0   0   0   0   0   0   \n",
       "4    0   340   0   0  121   0   0   228   0   0 ...   0   0   0   0   0   0   \n",
       "5    0    59   0   0    6   0   0    47   0   0 ...   0   0   0   0   0   0   \n",
       "6    0    68   0   0    2   0   0     9   0   0 ...   0   0   0   0   0   0   \n",
       "7    0   361   0   0   14   0   0  2432   0   0 ...   0   0   0   0   0   0   \n",
       "8    0    99   0   0    2   0   0    61   0   0 ...   0   0   0   0   0   0   \n",
       "9    0     5   0   0    0   0   0     8   0   0 ...   0   0   0   0   0   0   \n",
       "10   0     2   0   0    0   0   0     1   0   0 ...   0   0   0   0   0   0   \n",
       "11   0     7   0   0    0   0   0     5   0   0 ...   0   0   0   0   0   0   \n",
       "12   0    33   0   0    5   0   0   177   0   0 ...   0   0   0   0   0   0   \n",
       "13   0   102   0   0   10   0   0   208   0   0 ...   0   0   0   0   0   0   \n",
       "14   0     0   0   0    0   0   0     1   0   0 ...   0   0   0   0   0   0   \n",
       "15   0    51   0   0    2   0   0    26   0   0 ...   0   0   0   0   0   0   \n",
       "16   0  1352   0   0  153   5   0  2083   0   0 ...   0   0   0   1   0   0   \n",
       "17   0    19   0   0    2   0   0    44   0   0 ...   0   0   0   0   0   0   \n",
       "18   0     8   0   0    3   0   0    31   0   0 ...   0   0   0   0   0   0   \n",
       "19   0   244   0   0   15   0   0   228   0   0 ...   0   0   0   0   0   0   \n",
       "20   0   826   0   0   77   0   1  1624   0   0 ...   0   0   0   0   0   0   \n",
       "21   0  1366   0   0  112   1   0  2377   0   0 ...   0   0   0   0   0   0   \n",
       "22   0     0   0   0    0   0   0     0   0   0 ...   0   0   0   0   0   0   \n",
       "23   0   122   0   0   42   0   0    10   0   0 ...   0   0   0   0   0   0   \n",
       "24   0    51   0   0    2   0   0    35   0   0 ...   0   0   0   0   0   0   \n",
       "25   0   515   0   0   15   0   2   255   0   0 ...   0   0   0   0   0   0   \n",
       "26   0    15   0   0    4   0   0     9   0   0 ...   0   0   0   0   0   0   \n",
       "27   0   214   0   0    7   0   0    98   0   0 ...   0   0   0   0   0   0   \n",
       "28   0    90   0   0    2   0   0    40   0   0 ...   0   0   0   0   0   0   \n",
       "29   0     0   0   0    0   0   0     1   0   0 ...   0   0   0   0   0   0   \n",
       "30   0    38   0   0    8   1   0    90   0   0 ...   0   0   0   0   0   0   \n",
       "31   0     9   0   0    1   0   0     5   0   0 ...   0   0   0   0   0   0   \n",
       "32   0   436   0   0   36   1   0   463   0   0 ...   0   0   0   0   0   0   \n",
       "33   0     0   0   0    0   0   0     0   0   0 ...   0   0   0   0   0   0   \n",
       "34   0    59   0   0    8   0   0   106   0   0 ...   0   0   0   0   0   0   \n",
       "35   0   852   0   0   73   0   0   300   0   0 ...   0   0   0   0   0   0   \n",
       "36   0   686   0   0   71   0   0   269   0   0 ...   0   0   0   0   0   0   \n",
       "37   0   392   0   0   26   0   0  1271   0   0 ...   0   0   0   0   0   0   \n",
       "38   0   220   0   0    5   1   0   117   0   0 ...   0   0   0   0   0   0   \n",
       "\n",
       "    35    36  37  38  \n",
       "0    3    17   0   0  \n",
       "1   48   687   0   0  \n",
       "2    0     1   0   0  \n",
       "3    0     3   0   0  \n",
       "4   27   219   0   0  \n",
       "5    0    11   0   0  \n",
       "6    5    30   0   0  \n",
       "7    9   206   0   0  \n",
       "8    4    27   0   0  \n",
       "9    1     2   0   0  \n",
       "10   0     1   0   0  \n",
       "11   1     3   0   0  \n",
       "12   1    32   0   0  \n",
       "13   4    49   0   0  \n",
       "14   0     2   0   0  \n",
       "15   3    15   0   0  \n",
       "16  79  1013   0   0  \n",
       "17   1     4   0   0  \n",
       "18   0     1   0   0  \n",
       "19   5   370   0   0  \n",
       "20  42   495   0   0  \n",
       "21  58   947   0   0  \n",
       "22   0     0   0   0  \n",
       "23   0     1   0   0  \n",
       "24   2    24   0   0  \n",
       "25  16   339   0   0  \n",
       "26   0    18   0   0  \n",
       "27   5   103   0   0  \n",
       "28   7    25   0   0  \n",
       "29   0     2   0   0  \n",
       "30   2    29   0   0  \n",
       "31   0     1   0   0  \n",
       "32  16   217   0   0  \n",
       "33   0     0   0   0  \n",
       "34   1    22   0   0  \n",
       "35  54   618   0   0  \n",
       "36  50  1185   0   0  \n",
       "37   7   176   0   0  \n",
       "38   6    75   0   0  \n",
       "\n",
       "[39 rows x 39 columns]"
      ]
     },
     "execution_count": 94,
     "metadata": {},
     "output_type": "execute_result"
    }
   ],
   "source": [
    "# Confusion matrix \n",
    "# True labels are the rows; predicted labels are the columns \n",
    "model_predicted_NB2 = model_NB2.predict(validation2[features2])\n",
    "np.set_printoptions(threshold=np.inf)\n",
    "cm = confusion_matrix(validation2['crime'], model_predicted_NB2, labels = categories_encoded)\n",
    "pd.DataFrame(cm)"
   ]
  },
  {
   "cell_type": "code",
   "execution_count": 96,
   "metadata": {
    "collapsed": false,
    "scrolled": true
   },
   "outputs": [
    {
     "data": {
      "text/html": [
       "<div>\n",
       "<table border=\"1\" class=\"dataframe\">\n",
       "  <thead>\n",
       "    <tr style=\"text-align: right;\">\n",
       "      <th></th>\n",
       "      <th>0</th>\n",
       "      <th>1</th>\n",
       "      <th>2</th>\n",
       "      <th>3</th>\n",
       "      <th>4</th>\n",
       "      <th>5</th>\n",
       "      <th>6</th>\n",
       "      <th>7</th>\n",
       "      <th>8</th>\n",
       "      <th>9</th>\n",
       "      <th>...</th>\n",
       "      <th>29</th>\n",
       "      <th>30</th>\n",
       "      <th>31</th>\n",
       "      <th>32</th>\n",
       "      <th>33</th>\n",
       "      <th>34</th>\n",
       "      <th>35</th>\n",
       "      <th>36</th>\n",
       "      <th>37</th>\n",
       "      <th>38</th>\n",
       "    </tr>\n",
       "  </thead>\n",
       "  <tbody>\n",
       "    <tr>\n",
       "      <th>0</th>\n",
       "      <td>0.0</td>\n",
       "      <td>0.086735</td>\n",
       "      <td>0.0</td>\n",
       "      <td>0.0</td>\n",
       "      <td>0.015306</td>\n",
       "      <td>0.000000</td>\n",
       "      <td>0.000000</td>\n",
       "      <td>0.013605</td>\n",
       "      <td>0.0</td>\n",
       "      <td>0.0</td>\n",
       "      <td>...</td>\n",
       "      <td>0.0</td>\n",
       "      <td>0.0</td>\n",
       "      <td>0.0</td>\n",
       "      <td>0.000000</td>\n",
       "      <td>0.0</td>\n",
       "      <td>0.0</td>\n",
       "      <td>0.005102</td>\n",
       "      <td>0.028912</td>\n",
       "      <td>0.0</td>\n",
       "      <td>0.0</td>\n",
       "    </tr>\n",
       "    <tr>\n",
       "      <th>1</th>\n",
       "      <td>0.0</td>\n",
       "      <td>0.055829</td>\n",
       "      <td>0.0</td>\n",
       "      <td>0.0</td>\n",
       "      <td>0.001468</td>\n",
       "      <td>0.000033</td>\n",
       "      <td>0.000000</td>\n",
       "      <td>0.035566</td>\n",
       "      <td>0.0</td>\n",
       "      <td>0.0</td>\n",
       "      <td>...</td>\n",
       "      <td>0.0</td>\n",
       "      <td>0.0</td>\n",
       "      <td>0.0</td>\n",
       "      <td>0.000000</td>\n",
       "      <td>0.0</td>\n",
       "      <td>0.0</td>\n",
       "      <td>0.001566</td>\n",
       "      <td>0.022417</td>\n",
       "      <td>0.0</td>\n",
       "      <td>0.0</td>\n",
       "    </tr>\n",
       "    <tr>\n",
       "      <th>2</th>\n",
       "      <td>0.0</td>\n",
       "      <td>0.000000</td>\n",
       "      <td>0.0</td>\n",
       "      <td>0.0</td>\n",
       "      <td>0.000000</td>\n",
       "      <td>0.000000</td>\n",
       "      <td>0.000000</td>\n",
       "      <td>0.042169</td>\n",
       "      <td>0.0</td>\n",
       "      <td>0.0</td>\n",
       "      <td>...</td>\n",
       "      <td>0.0</td>\n",
       "      <td>0.0</td>\n",
       "      <td>0.0</td>\n",
       "      <td>0.000000</td>\n",
       "      <td>0.0</td>\n",
       "      <td>0.0</td>\n",
       "      <td>0.000000</td>\n",
       "      <td>0.006024</td>\n",
       "      <td>0.0</td>\n",
       "      <td>0.0</td>\n",
       "    </tr>\n",
       "    <tr>\n",
       "      <th>3</th>\n",
       "      <td>0.0</td>\n",
       "      <td>0.016529</td>\n",
       "      <td>0.0</td>\n",
       "      <td>0.0</td>\n",
       "      <td>0.000000</td>\n",
       "      <td>0.000000</td>\n",
       "      <td>0.000000</td>\n",
       "      <td>0.016529</td>\n",
       "      <td>0.0</td>\n",
       "      <td>0.0</td>\n",
       "      <td>...</td>\n",
       "      <td>0.0</td>\n",
       "      <td>0.0</td>\n",
       "      <td>0.0</td>\n",
       "      <td>0.000000</td>\n",
       "      <td>0.0</td>\n",
       "      <td>0.0</td>\n",
       "      <td>0.000000</td>\n",
       "      <td>0.024793</td>\n",
       "      <td>0.0</td>\n",
       "      <td>0.0</td>\n",
       "    </tr>\n",
       "    <tr>\n",
       "      <th>4</th>\n",
       "      <td>0.0</td>\n",
       "      <td>0.022996</td>\n",
       "      <td>0.0</td>\n",
       "      <td>0.0</td>\n",
       "      <td>0.008184</td>\n",
       "      <td>0.000000</td>\n",
       "      <td>0.000000</td>\n",
       "      <td>0.015421</td>\n",
       "      <td>0.0</td>\n",
       "      <td>0.0</td>\n",
       "      <td>...</td>\n",
       "      <td>0.0</td>\n",
       "      <td>0.0</td>\n",
       "      <td>0.0</td>\n",
       "      <td>0.000000</td>\n",
       "      <td>0.0</td>\n",
       "      <td>0.0</td>\n",
       "      <td>0.001826</td>\n",
       "      <td>0.014812</td>\n",
       "      <td>0.0</td>\n",
       "      <td>0.0</td>\n",
       "    </tr>\n",
       "    <tr>\n",
       "      <th>5</th>\n",
       "      <td>0.0</td>\n",
       "      <td>0.035351</td>\n",
       "      <td>0.0</td>\n",
       "      <td>0.0</td>\n",
       "      <td>0.003595</td>\n",
       "      <td>0.000000</td>\n",
       "      <td>0.000000</td>\n",
       "      <td>0.028161</td>\n",
       "      <td>0.0</td>\n",
       "      <td>0.0</td>\n",
       "      <td>...</td>\n",
       "      <td>0.0</td>\n",
       "      <td>0.0</td>\n",
       "      <td>0.0</td>\n",
       "      <td>0.000000</td>\n",
       "      <td>0.0</td>\n",
       "      <td>0.0</td>\n",
       "      <td>0.000000</td>\n",
       "      <td>0.006591</td>\n",
       "      <td>0.0</td>\n",
       "      <td>0.0</td>\n",
       "    </tr>\n",
       "    <tr>\n",
       "      <th>6</th>\n",
       "      <td>0.0</td>\n",
       "      <td>0.075808</td>\n",
       "      <td>0.0</td>\n",
       "      <td>0.0</td>\n",
       "      <td>0.002230</td>\n",
       "      <td>0.000000</td>\n",
       "      <td>0.000000</td>\n",
       "      <td>0.010033</td>\n",
       "      <td>0.0</td>\n",
       "      <td>0.0</td>\n",
       "      <td>...</td>\n",
       "      <td>0.0</td>\n",
       "      <td>0.0</td>\n",
       "      <td>0.0</td>\n",
       "      <td>0.000000</td>\n",
       "      <td>0.0</td>\n",
       "      <td>0.0</td>\n",
       "      <td>0.005574</td>\n",
       "      <td>0.033445</td>\n",
       "      <td>0.0</td>\n",
       "      <td>0.0</td>\n",
       "    </tr>\n",
       "    <tr>\n",
       "      <th>7</th>\n",
       "      <td>0.0</td>\n",
       "      <td>0.016547</td>\n",
       "      <td>0.0</td>\n",
       "      <td>0.0</td>\n",
       "      <td>0.000642</td>\n",
       "      <td>0.000000</td>\n",
       "      <td>0.000000</td>\n",
       "      <td>0.111473</td>\n",
       "      <td>0.0</td>\n",
       "      <td>0.0</td>\n",
       "      <td>...</td>\n",
       "      <td>0.0</td>\n",
       "      <td>0.0</td>\n",
       "      <td>0.0</td>\n",
       "      <td>0.000000</td>\n",
       "      <td>0.0</td>\n",
       "      <td>0.0</td>\n",
       "      <td>0.000413</td>\n",
       "      <td>0.009442</td>\n",
       "      <td>0.0</td>\n",
       "      <td>0.0</td>\n",
       "    </tr>\n",
       "    <tr>\n",
       "      <th>8</th>\n",
       "      <td>0.0</td>\n",
       "      <td>0.057225</td>\n",
       "      <td>0.0</td>\n",
       "      <td>0.0</td>\n",
       "      <td>0.001156</td>\n",
       "      <td>0.000000</td>\n",
       "      <td>0.000000</td>\n",
       "      <td>0.035260</td>\n",
       "      <td>0.0</td>\n",
       "      <td>0.0</td>\n",
       "      <td>...</td>\n",
       "      <td>0.0</td>\n",
       "      <td>0.0</td>\n",
       "      <td>0.0</td>\n",
       "      <td>0.000000</td>\n",
       "      <td>0.0</td>\n",
       "      <td>0.0</td>\n",
       "      <td>0.002312</td>\n",
       "      <td>0.015607</td>\n",
       "      <td>0.0</td>\n",
       "      <td>0.0</td>\n",
       "    </tr>\n",
       "    <tr>\n",
       "      <th>9</th>\n",
       "      <td>0.0</td>\n",
       "      <td>0.010823</td>\n",
       "      <td>0.0</td>\n",
       "      <td>0.0</td>\n",
       "      <td>0.000000</td>\n",
       "      <td>0.000000</td>\n",
       "      <td>0.000000</td>\n",
       "      <td>0.017316</td>\n",
       "      <td>0.0</td>\n",
       "      <td>0.0</td>\n",
       "      <td>...</td>\n",
       "      <td>0.0</td>\n",
       "      <td>0.0</td>\n",
       "      <td>0.0</td>\n",
       "      <td>0.000000</td>\n",
       "      <td>0.0</td>\n",
       "      <td>0.0</td>\n",
       "      <td>0.002165</td>\n",
       "      <td>0.004329</td>\n",
       "      <td>0.0</td>\n",
       "      <td>0.0</td>\n",
       "    </tr>\n",
       "    <tr>\n",
       "      <th>10</th>\n",
       "      <td>0.0</td>\n",
       "      <td>0.020408</td>\n",
       "      <td>0.0</td>\n",
       "      <td>0.0</td>\n",
       "      <td>0.000000</td>\n",
       "      <td>0.000000</td>\n",
       "      <td>0.000000</td>\n",
       "      <td>0.010204</td>\n",
       "      <td>0.0</td>\n",
       "      <td>0.0</td>\n",
       "      <td>...</td>\n",
       "      <td>0.0</td>\n",
       "      <td>0.0</td>\n",
       "      <td>0.0</td>\n",
       "      <td>0.000000</td>\n",
       "      <td>0.0</td>\n",
       "      <td>0.0</td>\n",
       "      <td>0.000000</td>\n",
       "      <td>0.010204</td>\n",
       "      <td>0.0</td>\n",
       "      <td>0.0</td>\n",
       "    </tr>\n",
       "    <tr>\n",
       "      <th>11</th>\n",
       "      <td>0.0</td>\n",
       "      <td>0.032864</td>\n",
       "      <td>0.0</td>\n",
       "      <td>0.0</td>\n",
       "      <td>0.000000</td>\n",
       "      <td>0.000000</td>\n",
       "      <td>0.000000</td>\n",
       "      <td>0.023474</td>\n",
       "      <td>0.0</td>\n",
       "      <td>0.0</td>\n",
       "      <td>...</td>\n",
       "      <td>0.0</td>\n",
       "      <td>0.0</td>\n",
       "      <td>0.0</td>\n",
       "      <td>0.000000</td>\n",
       "      <td>0.0</td>\n",
       "      <td>0.0</td>\n",
       "      <td>0.004695</td>\n",
       "      <td>0.014085</td>\n",
       "      <td>0.0</td>\n",
       "      <td>0.0</td>\n",
       "    </tr>\n",
       "    <tr>\n",
       "      <th>12</th>\n",
       "      <td>0.0</td>\n",
       "      <td>0.007778</td>\n",
       "      <td>0.0</td>\n",
       "      <td>0.0</td>\n",
       "      <td>0.001178</td>\n",
       "      <td>0.000000</td>\n",
       "      <td>0.000000</td>\n",
       "      <td>0.041716</td>\n",
       "      <td>0.0</td>\n",
       "      <td>0.0</td>\n",
       "      <td>...</td>\n",
       "      <td>0.0</td>\n",
       "      <td>0.0</td>\n",
       "      <td>0.0</td>\n",
       "      <td>0.000000</td>\n",
       "      <td>0.0</td>\n",
       "      <td>0.0</td>\n",
       "      <td>0.000236</td>\n",
       "      <td>0.007542</td>\n",
       "      <td>0.0</td>\n",
       "      <td>0.0</td>\n",
       "    </tr>\n",
       "    <tr>\n",
       "      <th>13</th>\n",
       "      <td>0.0</td>\n",
       "      <td>0.015426</td>\n",
       "      <td>0.0</td>\n",
       "      <td>0.0</td>\n",
       "      <td>0.001512</td>\n",
       "      <td>0.000000</td>\n",
       "      <td>0.000000</td>\n",
       "      <td>0.031458</td>\n",
       "      <td>0.0</td>\n",
       "      <td>0.0</td>\n",
       "      <td>...</td>\n",
       "      <td>0.0</td>\n",
       "      <td>0.0</td>\n",
       "      <td>0.0</td>\n",
       "      <td>0.000000</td>\n",
       "      <td>0.0</td>\n",
       "      <td>0.0</td>\n",
       "      <td>0.000605</td>\n",
       "      <td>0.007411</td>\n",
       "      <td>0.0</td>\n",
       "      <td>0.0</td>\n",
       "    </tr>\n",
       "    <tr>\n",
       "      <th>14</th>\n",
       "      <td>0.0</td>\n",
       "      <td>0.000000</td>\n",
       "      <td>0.0</td>\n",
       "      <td>0.0</td>\n",
       "      <td>0.000000</td>\n",
       "      <td>0.000000</td>\n",
       "      <td>0.000000</td>\n",
       "      <td>0.018182</td>\n",
       "      <td>0.0</td>\n",
       "      <td>0.0</td>\n",
       "      <td>...</td>\n",
       "      <td>0.0</td>\n",
       "      <td>0.0</td>\n",
       "      <td>0.0</td>\n",
       "      <td>0.000000</td>\n",
       "      <td>0.0</td>\n",
       "      <td>0.0</td>\n",
       "      <td>0.000000</td>\n",
       "      <td>0.036364</td>\n",
       "      <td>0.0</td>\n",
       "      <td>0.0</td>\n",
       "    </tr>\n",
       "    <tr>\n",
       "      <th>15</th>\n",
       "      <td>0.0</td>\n",
       "      <td>0.053684</td>\n",
       "      <td>0.0</td>\n",
       "      <td>0.0</td>\n",
       "      <td>0.002105</td>\n",
       "      <td>0.000000</td>\n",
       "      <td>0.000000</td>\n",
       "      <td>0.027368</td>\n",
       "      <td>0.0</td>\n",
       "      <td>0.0</td>\n",
       "      <td>...</td>\n",
       "      <td>0.0</td>\n",
       "      <td>0.0</td>\n",
       "      <td>0.0</td>\n",
       "      <td>0.000000</td>\n",
       "      <td>0.0</td>\n",
       "      <td>0.0</td>\n",
       "      <td>0.003158</td>\n",
       "      <td>0.015789</td>\n",
       "      <td>0.0</td>\n",
       "      <td>0.0</td>\n",
       "    </tr>\n",
       "    <tr>\n",
       "      <th>16</th>\n",
       "      <td>0.0</td>\n",
       "      <td>0.019397</td>\n",
       "      <td>0.0</td>\n",
       "      <td>0.0</td>\n",
       "      <td>0.002195</td>\n",
       "      <td>0.000072</td>\n",
       "      <td>0.000000</td>\n",
       "      <td>0.029884</td>\n",
       "      <td>0.0</td>\n",
       "      <td>0.0</td>\n",
       "      <td>...</td>\n",
       "      <td>0.0</td>\n",
       "      <td>0.0</td>\n",
       "      <td>0.0</td>\n",
       "      <td>0.000014</td>\n",
       "      <td>0.0</td>\n",
       "      <td>0.0</td>\n",
       "      <td>0.001133</td>\n",
       "      <td>0.014533</td>\n",
       "      <td>0.0</td>\n",
       "      <td>0.0</td>\n",
       "    </tr>\n",
       "    <tr>\n",
       "      <th>17</th>\n",
       "      <td>0.0</td>\n",
       "      <td>0.024837</td>\n",
       "      <td>0.0</td>\n",
       "      <td>0.0</td>\n",
       "      <td>0.002614</td>\n",
       "      <td>0.000000</td>\n",
       "      <td>0.000000</td>\n",
       "      <td>0.057516</td>\n",
       "      <td>0.0</td>\n",
       "      <td>0.0</td>\n",
       "      <td>...</td>\n",
       "      <td>0.0</td>\n",
       "      <td>0.0</td>\n",
       "      <td>0.0</td>\n",
       "      <td>0.000000</td>\n",
       "      <td>0.0</td>\n",
       "      <td>0.0</td>\n",
       "      <td>0.001307</td>\n",
       "      <td>0.005229</td>\n",
       "      <td>0.0</td>\n",
       "      <td>0.0</td>\n",
       "    </tr>\n",
       "    <tr>\n",
       "      <th>18</th>\n",
       "      <td>0.0</td>\n",
       "      <td>0.016194</td>\n",
       "      <td>0.0</td>\n",
       "      <td>0.0</td>\n",
       "      <td>0.006073</td>\n",
       "      <td>0.000000</td>\n",
       "      <td>0.000000</td>\n",
       "      <td>0.062753</td>\n",
       "      <td>0.0</td>\n",
       "      <td>0.0</td>\n",
       "      <td>...</td>\n",
       "      <td>0.0</td>\n",
       "      <td>0.0</td>\n",
       "      <td>0.0</td>\n",
       "      <td>0.000000</td>\n",
       "      <td>0.0</td>\n",
       "      <td>0.0</td>\n",
       "      <td>0.000000</td>\n",
       "      <td>0.002024</td>\n",
       "      <td>0.0</td>\n",
       "      <td>0.0</td>\n",
       "    </tr>\n",
       "    <tr>\n",
       "      <th>19</th>\n",
       "      <td>0.0</td>\n",
       "      <td>0.023231</td>\n",
       "      <td>0.0</td>\n",
       "      <td>0.0</td>\n",
       "      <td>0.001428</td>\n",
       "      <td>0.000000</td>\n",
       "      <td>0.000000</td>\n",
       "      <td>0.021708</td>\n",
       "      <td>0.0</td>\n",
       "      <td>0.0</td>\n",
       "      <td>...</td>\n",
       "      <td>0.0</td>\n",
       "      <td>0.0</td>\n",
       "      <td>0.0</td>\n",
       "      <td>0.000000</td>\n",
       "      <td>0.0</td>\n",
       "      <td>0.0</td>\n",
       "      <td>0.000476</td>\n",
       "      <td>0.035228</td>\n",
       "      <td>0.0</td>\n",
       "      <td>0.0</td>\n",
       "    </tr>\n",
       "    <tr>\n",
       "      <th>20</th>\n",
       "      <td>0.0</td>\n",
       "      <td>0.022376</td>\n",
       "      <td>0.0</td>\n",
       "      <td>0.0</td>\n",
       "      <td>0.002086</td>\n",
       "      <td>0.000000</td>\n",
       "      <td>0.000027</td>\n",
       "      <td>0.043993</td>\n",
       "      <td>0.0</td>\n",
       "      <td>0.0</td>\n",
       "      <td>...</td>\n",
       "      <td>0.0</td>\n",
       "      <td>0.0</td>\n",
       "      <td>0.0</td>\n",
       "      <td>0.000000</td>\n",
       "      <td>0.0</td>\n",
       "      <td>0.0</td>\n",
       "      <td>0.001138</td>\n",
       "      <td>0.013409</td>\n",
       "      <td>0.0</td>\n",
       "      <td>0.0</td>\n",
       "    </tr>\n",
       "    <tr>\n",
       "      <th>21</th>\n",
       "      <td>0.0</td>\n",
       "      <td>0.027032</td>\n",
       "      <td>0.0</td>\n",
       "      <td>0.0</td>\n",
       "      <td>0.002216</td>\n",
       "      <td>0.000020</td>\n",
       "      <td>0.000000</td>\n",
       "      <td>0.047039</td>\n",
       "      <td>0.0</td>\n",
       "      <td>0.0</td>\n",
       "      <td>...</td>\n",
       "      <td>0.0</td>\n",
       "      <td>0.0</td>\n",
       "      <td>0.0</td>\n",
       "      <td>0.000000</td>\n",
       "      <td>0.0</td>\n",
       "      <td>0.0</td>\n",
       "      <td>0.001148</td>\n",
       "      <td>0.018741</td>\n",
       "      <td>0.0</td>\n",
       "      <td>0.0</td>\n",
       "    </tr>\n",
       "    <tr>\n",
       "      <th>22</th>\n",
       "      <td>0.0</td>\n",
       "      <td>0.000000</td>\n",
       "      <td>0.0</td>\n",
       "      <td>0.0</td>\n",
       "      <td>0.000000</td>\n",
       "      <td>0.000000</td>\n",
       "      <td>0.000000</td>\n",
       "      <td>0.000000</td>\n",
       "      <td>0.0</td>\n",
       "      <td>0.0</td>\n",
       "      <td>...</td>\n",
       "      <td>0.0</td>\n",
       "      <td>0.0</td>\n",
       "      <td>0.0</td>\n",
       "      <td>0.000000</td>\n",
       "      <td>0.0</td>\n",
       "      <td>0.0</td>\n",
       "      <td>0.000000</td>\n",
       "      <td>0.000000</td>\n",
       "      <td>0.0</td>\n",
       "      <td>0.0</td>\n",
       "    </tr>\n",
       "    <tr>\n",
       "      <th>23</th>\n",
       "      <td>0.0</td>\n",
       "      <td>0.040438</td>\n",
       "      <td>0.0</td>\n",
       "      <td>0.0</td>\n",
       "      <td>0.013921</td>\n",
       "      <td>0.000000</td>\n",
       "      <td>0.000000</td>\n",
       "      <td>0.003315</td>\n",
       "      <td>0.0</td>\n",
       "      <td>0.0</td>\n",
       "      <td>...</td>\n",
       "      <td>0.0</td>\n",
       "      <td>0.0</td>\n",
       "      <td>0.0</td>\n",
       "      <td>0.000000</td>\n",
       "      <td>0.0</td>\n",
       "      <td>0.0</td>\n",
       "      <td>0.000000</td>\n",
       "      <td>0.000331</td>\n",
       "      <td>0.0</td>\n",
       "      <td>0.0</td>\n",
       "    </tr>\n",
       "    <tr>\n",
       "      <th>24</th>\n",
       "      <td>0.0</td>\n",
       "      <td>0.041063</td>\n",
       "      <td>0.0</td>\n",
       "      <td>0.0</td>\n",
       "      <td>0.001610</td>\n",
       "      <td>0.000000</td>\n",
       "      <td>0.000000</td>\n",
       "      <td>0.028180</td>\n",
       "      <td>0.0</td>\n",
       "      <td>0.0</td>\n",
       "      <td>...</td>\n",
       "      <td>0.0</td>\n",
       "      <td>0.0</td>\n",
       "      <td>0.0</td>\n",
       "      <td>0.000000</td>\n",
       "      <td>0.0</td>\n",
       "      <td>0.0</td>\n",
       "      <td>0.001610</td>\n",
       "      <td>0.019324</td>\n",
       "      <td>0.0</td>\n",
       "      <td>0.0</td>\n",
       "    </tr>\n",
       "    <tr>\n",
       "      <th>25</th>\n",
       "      <td>0.0</td>\n",
       "      <td>0.056494</td>\n",
       "      <td>0.0</td>\n",
       "      <td>0.0</td>\n",
       "      <td>0.001645</td>\n",
       "      <td>0.000000</td>\n",
       "      <td>0.000219</td>\n",
       "      <td>0.027973</td>\n",
       "      <td>0.0</td>\n",
       "      <td>0.0</td>\n",
       "      <td>...</td>\n",
       "      <td>0.0</td>\n",
       "      <td>0.0</td>\n",
       "      <td>0.0</td>\n",
       "      <td>0.000000</td>\n",
       "      <td>0.0</td>\n",
       "      <td>0.0</td>\n",
       "      <td>0.001755</td>\n",
       "      <td>0.037187</td>\n",
       "      <td>0.0</td>\n",
       "      <td>0.0</td>\n",
       "    </tr>\n",
       "    <tr>\n",
       "      <th>26</th>\n",
       "      <td>0.0</td>\n",
       "      <td>0.018541</td>\n",
       "      <td>0.0</td>\n",
       "      <td>0.0</td>\n",
       "      <td>0.004944</td>\n",
       "      <td>0.000000</td>\n",
       "      <td>0.000000</td>\n",
       "      <td>0.011125</td>\n",
       "      <td>0.0</td>\n",
       "      <td>0.0</td>\n",
       "      <td>...</td>\n",
       "      <td>0.0</td>\n",
       "      <td>0.0</td>\n",
       "      <td>0.0</td>\n",
       "      <td>0.000000</td>\n",
       "      <td>0.0</td>\n",
       "      <td>0.0</td>\n",
       "      <td>0.000000</td>\n",
       "      <td>0.022250</td>\n",
       "      <td>0.0</td>\n",
       "      <td>0.0</td>\n",
       "    </tr>\n",
       "    <tr>\n",
       "      <th>27</th>\n",
       "      <td>0.0</td>\n",
       "      <td>0.053527</td>\n",
       "      <td>0.0</td>\n",
       "      <td>0.0</td>\n",
       "      <td>0.001751</td>\n",
       "      <td>0.000000</td>\n",
       "      <td>0.000000</td>\n",
       "      <td>0.024512</td>\n",
       "      <td>0.0</td>\n",
       "      <td>0.0</td>\n",
       "      <td>...</td>\n",
       "      <td>0.0</td>\n",
       "      <td>0.0</td>\n",
       "      <td>0.0</td>\n",
       "      <td>0.000000</td>\n",
       "      <td>0.0</td>\n",
       "      <td>0.0</td>\n",
       "      <td>0.001251</td>\n",
       "      <td>0.025763</td>\n",
       "      <td>0.0</td>\n",
       "      <td>0.0</td>\n",
       "    </tr>\n",
       "    <tr>\n",
       "      <th>28</th>\n",
       "      <td>0.0</td>\n",
       "      <td>0.050761</td>\n",
       "      <td>0.0</td>\n",
       "      <td>0.0</td>\n",
       "      <td>0.001128</td>\n",
       "      <td>0.000000</td>\n",
       "      <td>0.000000</td>\n",
       "      <td>0.022561</td>\n",
       "      <td>0.0</td>\n",
       "      <td>0.0</td>\n",
       "      <td>...</td>\n",
       "      <td>0.0</td>\n",
       "      <td>0.0</td>\n",
       "      <td>0.0</td>\n",
       "      <td>0.000000</td>\n",
       "      <td>0.0</td>\n",
       "      <td>0.0</td>\n",
       "      <td>0.003948</td>\n",
       "      <td>0.014100</td>\n",
       "      <td>0.0</td>\n",
       "      <td>0.0</td>\n",
       "    </tr>\n",
       "    <tr>\n",
       "      <th>29</th>\n",
       "      <td>0.0</td>\n",
       "      <td>0.000000</td>\n",
       "      <td>0.0</td>\n",
       "      <td>0.0</td>\n",
       "      <td>0.000000</td>\n",
       "      <td>0.000000</td>\n",
       "      <td>0.000000</td>\n",
       "      <td>0.017857</td>\n",
       "      <td>0.0</td>\n",
       "      <td>0.0</td>\n",
       "      <td>...</td>\n",
       "      <td>0.0</td>\n",
       "      <td>0.0</td>\n",
       "      <td>0.0</td>\n",
       "      <td>0.000000</td>\n",
       "      <td>0.0</td>\n",
       "      <td>0.0</td>\n",
       "      <td>0.000000</td>\n",
       "      <td>0.035714</td>\n",
       "      <td>0.0</td>\n",
       "      <td>0.0</td>\n",
       "    </tr>\n",
       "    <tr>\n",
       "      <th>30</th>\n",
       "      <td>0.0</td>\n",
       "      <td>0.020485</td>\n",
       "      <td>0.0</td>\n",
       "      <td>0.0</td>\n",
       "      <td>0.004313</td>\n",
       "      <td>0.000539</td>\n",
       "      <td>0.000000</td>\n",
       "      <td>0.048518</td>\n",
       "      <td>0.0</td>\n",
       "      <td>0.0</td>\n",
       "      <td>...</td>\n",
       "      <td>0.0</td>\n",
       "      <td>0.0</td>\n",
       "      <td>0.0</td>\n",
       "      <td>0.000000</td>\n",
       "      <td>0.0</td>\n",
       "      <td>0.0</td>\n",
       "      <td>0.001078</td>\n",
       "      <td>0.015633</td>\n",
       "      <td>0.0</td>\n",
       "      <td>0.0</td>\n",
       "    </tr>\n",
       "    <tr>\n",
       "      <th>31</th>\n",
       "      <td>0.0</td>\n",
       "      <td>0.042254</td>\n",
       "      <td>0.0</td>\n",
       "      <td>0.0</td>\n",
       "      <td>0.004695</td>\n",
       "      <td>0.000000</td>\n",
       "      <td>0.000000</td>\n",
       "      <td>0.023474</td>\n",
       "      <td>0.0</td>\n",
       "      <td>0.0</td>\n",
       "      <td>...</td>\n",
       "      <td>0.0</td>\n",
       "      <td>0.0</td>\n",
       "      <td>0.0</td>\n",
       "      <td>0.000000</td>\n",
       "      <td>0.0</td>\n",
       "      <td>0.0</td>\n",
       "      <td>0.000000</td>\n",
       "      <td>0.004695</td>\n",
       "      <td>0.0</td>\n",
       "      <td>0.0</td>\n",
       "    </tr>\n",
       "    <tr>\n",
       "      <th>32</th>\n",
       "      <td>0.0</td>\n",
       "      <td>0.034877</td>\n",
       "      <td>0.0</td>\n",
       "      <td>0.0</td>\n",
       "      <td>0.002880</td>\n",
       "      <td>0.000080</td>\n",
       "      <td>0.000000</td>\n",
       "      <td>0.037037</td>\n",
       "      <td>0.0</td>\n",
       "      <td>0.0</td>\n",
       "      <td>...</td>\n",
       "      <td>0.0</td>\n",
       "      <td>0.0</td>\n",
       "      <td>0.0</td>\n",
       "      <td>0.000000</td>\n",
       "      <td>0.0</td>\n",
       "      <td>0.0</td>\n",
       "      <td>0.001280</td>\n",
       "      <td>0.017359</td>\n",
       "      <td>0.0</td>\n",
       "      <td>0.0</td>\n",
       "    </tr>\n",
       "    <tr>\n",
       "      <th>33</th>\n",
       "      <td>0.0</td>\n",
       "      <td>0.000000</td>\n",
       "      <td>0.0</td>\n",
       "      <td>0.0</td>\n",
       "      <td>0.000000</td>\n",
       "      <td>0.000000</td>\n",
       "      <td>0.000000</td>\n",
       "      <td>0.000000</td>\n",
       "      <td>0.0</td>\n",
       "      <td>0.0</td>\n",
       "      <td>...</td>\n",
       "      <td>0.0</td>\n",
       "      <td>0.0</td>\n",
       "      <td>0.0</td>\n",
       "      <td>0.000000</td>\n",
       "      <td>0.0</td>\n",
       "      <td>0.0</td>\n",
       "      <td>0.000000</td>\n",
       "      <td>0.000000</td>\n",
       "      <td>0.0</td>\n",
       "      <td>0.0</td>\n",
       "    </tr>\n",
       "    <tr>\n",
       "      <th>34</th>\n",
       "      <td>0.0</td>\n",
       "      <td>0.020014</td>\n",
       "      <td>0.0</td>\n",
       "      <td>0.0</td>\n",
       "      <td>0.002714</td>\n",
       "      <td>0.000000</td>\n",
       "      <td>0.000000</td>\n",
       "      <td>0.035957</td>\n",
       "      <td>0.0</td>\n",
       "      <td>0.0</td>\n",
       "      <td>...</td>\n",
       "      <td>0.0</td>\n",
       "      <td>0.0</td>\n",
       "      <td>0.0</td>\n",
       "      <td>0.000000</td>\n",
       "      <td>0.0</td>\n",
       "      <td>0.0</td>\n",
       "      <td>0.000339</td>\n",
       "      <td>0.007463</td>\n",
       "      <td>0.0</td>\n",
       "      <td>0.0</td>\n",
       "    </tr>\n",
       "    <tr>\n",
       "      <th>35</th>\n",
       "      <td>0.0</td>\n",
       "      <td>0.047664</td>\n",
       "      <td>0.0</td>\n",
       "      <td>0.0</td>\n",
       "      <td>0.004084</td>\n",
       "      <td>0.000000</td>\n",
       "      <td>0.000000</td>\n",
       "      <td>0.016783</td>\n",
       "      <td>0.0</td>\n",
       "      <td>0.0</td>\n",
       "      <td>...</td>\n",
       "      <td>0.0</td>\n",
       "      <td>0.0</td>\n",
       "      <td>0.0</td>\n",
       "      <td>0.000000</td>\n",
       "      <td>0.0</td>\n",
       "      <td>0.0</td>\n",
       "      <td>0.003021</td>\n",
       "      <td>0.034573</td>\n",
       "      <td>0.0</td>\n",
       "      <td>0.0</td>\n",
       "    </tr>\n",
       "    <tr>\n",
       "      <th>36</th>\n",
       "      <td>0.0</td>\n",
       "      <td>0.031910</td>\n",
       "      <td>0.0</td>\n",
       "      <td>0.0</td>\n",
       "      <td>0.003303</td>\n",
       "      <td>0.000000</td>\n",
       "      <td>0.000000</td>\n",
       "      <td>0.012513</td>\n",
       "      <td>0.0</td>\n",
       "      <td>0.0</td>\n",
       "      <td>...</td>\n",
       "      <td>0.0</td>\n",
       "      <td>0.0</td>\n",
       "      <td>0.0</td>\n",
       "      <td>0.000000</td>\n",
       "      <td>0.0</td>\n",
       "      <td>0.0</td>\n",
       "      <td>0.002326</td>\n",
       "      <td>0.055121</td>\n",
       "      <td>0.0</td>\n",
       "      <td>0.0</td>\n",
       "    </tr>\n",
       "    <tr>\n",
       "      <th>37</th>\n",
       "      <td>0.0</td>\n",
       "      <td>0.023154</td>\n",
       "      <td>0.0</td>\n",
       "      <td>0.0</td>\n",
       "      <td>0.001536</td>\n",
       "      <td>0.000000</td>\n",
       "      <td>0.000000</td>\n",
       "      <td>0.075074</td>\n",
       "      <td>0.0</td>\n",
       "      <td>0.0</td>\n",
       "      <td>...</td>\n",
       "      <td>0.0</td>\n",
       "      <td>0.0</td>\n",
       "      <td>0.0</td>\n",
       "      <td>0.000000</td>\n",
       "      <td>0.0</td>\n",
       "      <td>0.0</td>\n",
       "      <td>0.000413</td>\n",
       "      <td>0.010396</td>\n",
       "      <td>0.0</td>\n",
       "      <td>0.0</td>\n",
       "    </tr>\n",
       "    <tr>\n",
       "      <th>38</th>\n",
       "      <td>0.0</td>\n",
       "      <td>0.064478</td>\n",
       "      <td>0.0</td>\n",
       "      <td>0.0</td>\n",
       "      <td>0.001465</td>\n",
       "      <td>0.000293</td>\n",
       "      <td>0.000000</td>\n",
       "      <td>0.034291</td>\n",
       "      <td>0.0</td>\n",
       "      <td>0.0</td>\n",
       "      <td>...</td>\n",
       "      <td>0.0</td>\n",
       "      <td>0.0</td>\n",
       "      <td>0.0</td>\n",
       "      <td>0.000000</td>\n",
       "      <td>0.0</td>\n",
       "      <td>0.0</td>\n",
       "      <td>0.001758</td>\n",
       "      <td>0.021981</td>\n",
       "      <td>0.0</td>\n",
       "      <td>0.0</td>\n",
       "    </tr>\n",
       "  </tbody>\n",
       "</table>\n",
       "<p>39 rows × 39 columns</p>\n",
       "</div>"
      ],
      "text/plain": [
       "     0         1    2    3         4         5         6         7    8    9   \\\n",
       "0   0.0  0.086735  0.0  0.0  0.015306  0.000000  0.000000  0.013605  0.0  0.0   \n",
       "1   0.0  0.055829  0.0  0.0  0.001468  0.000033  0.000000  0.035566  0.0  0.0   \n",
       "2   0.0  0.000000  0.0  0.0  0.000000  0.000000  0.000000  0.042169  0.0  0.0   \n",
       "3   0.0  0.016529  0.0  0.0  0.000000  0.000000  0.000000  0.016529  0.0  0.0   \n",
       "4   0.0  0.022996  0.0  0.0  0.008184  0.000000  0.000000  0.015421  0.0  0.0   \n",
       "5   0.0  0.035351  0.0  0.0  0.003595  0.000000  0.000000  0.028161  0.0  0.0   \n",
       "6   0.0  0.075808  0.0  0.0  0.002230  0.000000  0.000000  0.010033  0.0  0.0   \n",
       "7   0.0  0.016547  0.0  0.0  0.000642  0.000000  0.000000  0.111473  0.0  0.0   \n",
       "8   0.0  0.057225  0.0  0.0  0.001156  0.000000  0.000000  0.035260  0.0  0.0   \n",
       "9   0.0  0.010823  0.0  0.0  0.000000  0.000000  0.000000  0.017316  0.0  0.0   \n",
       "10  0.0  0.020408  0.0  0.0  0.000000  0.000000  0.000000  0.010204  0.0  0.0   \n",
       "11  0.0  0.032864  0.0  0.0  0.000000  0.000000  0.000000  0.023474  0.0  0.0   \n",
       "12  0.0  0.007778  0.0  0.0  0.001178  0.000000  0.000000  0.041716  0.0  0.0   \n",
       "13  0.0  0.015426  0.0  0.0  0.001512  0.000000  0.000000  0.031458  0.0  0.0   \n",
       "14  0.0  0.000000  0.0  0.0  0.000000  0.000000  0.000000  0.018182  0.0  0.0   \n",
       "15  0.0  0.053684  0.0  0.0  0.002105  0.000000  0.000000  0.027368  0.0  0.0   \n",
       "16  0.0  0.019397  0.0  0.0  0.002195  0.000072  0.000000  0.029884  0.0  0.0   \n",
       "17  0.0  0.024837  0.0  0.0  0.002614  0.000000  0.000000  0.057516  0.0  0.0   \n",
       "18  0.0  0.016194  0.0  0.0  0.006073  0.000000  0.000000  0.062753  0.0  0.0   \n",
       "19  0.0  0.023231  0.0  0.0  0.001428  0.000000  0.000000  0.021708  0.0  0.0   \n",
       "20  0.0  0.022376  0.0  0.0  0.002086  0.000000  0.000027  0.043993  0.0  0.0   \n",
       "21  0.0  0.027032  0.0  0.0  0.002216  0.000020  0.000000  0.047039  0.0  0.0   \n",
       "22  0.0  0.000000  0.0  0.0  0.000000  0.000000  0.000000  0.000000  0.0  0.0   \n",
       "23  0.0  0.040438  0.0  0.0  0.013921  0.000000  0.000000  0.003315  0.0  0.0   \n",
       "24  0.0  0.041063  0.0  0.0  0.001610  0.000000  0.000000  0.028180  0.0  0.0   \n",
       "25  0.0  0.056494  0.0  0.0  0.001645  0.000000  0.000219  0.027973  0.0  0.0   \n",
       "26  0.0  0.018541  0.0  0.0  0.004944  0.000000  0.000000  0.011125  0.0  0.0   \n",
       "27  0.0  0.053527  0.0  0.0  0.001751  0.000000  0.000000  0.024512  0.0  0.0   \n",
       "28  0.0  0.050761  0.0  0.0  0.001128  0.000000  0.000000  0.022561  0.0  0.0   \n",
       "29  0.0  0.000000  0.0  0.0  0.000000  0.000000  0.000000  0.017857  0.0  0.0   \n",
       "30  0.0  0.020485  0.0  0.0  0.004313  0.000539  0.000000  0.048518  0.0  0.0   \n",
       "31  0.0  0.042254  0.0  0.0  0.004695  0.000000  0.000000  0.023474  0.0  0.0   \n",
       "32  0.0  0.034877  0.0  0.0  0.002880  0.000080  0.000000  0.037037  0.0  0.0   \n",
       "33  0.0  0.000000  0.0  0.0  0.000000  0.000000  0.000000  0.000000  0.0  0.0   \n",
       "34  0.0  0.020014  0.0  0.0  0.002714  0.000000  0.000000  0.035957  0.0  0.0   \n",
       "35  0.0  0.047664  0.0  0.0  0.004084  0.000000  0.000000  0.016783  0.0  0.0   \n",
       "36  0.0  0.031910  0.0  0.0  0.003303  0.000000  0.000000  0.012513  0.0  0.0   \n",
       "37  0.0  0.023154  0.0  0.0  0.001536  0.000000  0.000000  0.075074  0.0  0.0   \n",
       "38  0.0  0.064478  0.0  0.0  0.001465  0.000293  0.000000  0.034291  0.0  0.0   \n",
       "\n",
       "   ...    29   30   31        32   33   34        35        36   37   38  \n",
       "0  ...   0.0  0.0  0.0  0.000000  0.0  0.0  0.005102  0.028912  0.0  0.0  \n",
       "1  ...   0.0  0.0  0.0  0.000000  0.0  0.0  0.001566  0.022417  0.0  0.0  \n",
       "2  ...   0.0  0.0  0.0  0.000000  0.0  0.0  0.000000  0.006024  0.0  0.0  \n",
       "3  ...   0.0  0.0  0.0  0.000000  0.0  0.0  0.000000  0.024793  0.0  0.0  \n",
       "4  ...   0.0  0.0  0.0  0.000000  0.0  0.0  0.001826  0.014812  0.0  0.0  \n",
       "5  ...   0.0  0.0  0.0  0.000000  0.0  0.0  0.000000  0.006591  0.0  0.0  \n",
       "6  ...   0.0  0.0  0.0  0.000000  0.0  0.0  0.005574  0.033445  0.0  0.0  \n",
       "7  ...   0.0  0.0  0.0  0.000000  0.0  0.0  0.000413  0.009442  0.0  0.0  \n",
       "8  ...   0.0  0.0  0.0  0.000000  0.0  0.0  0.002312  0.015607  0.0  0.0  \n",
       "9  ...   0.0  0.0  0.0  0.000000  0.0  0.0  0.002165  0.004329  0.0  0.0  \n",
       "10 ...   0.0  0.0  0.0  0.000000  0.0  0.0  0.000000  0.010204  0.0  0.0  \n",
       "11 ...   0.0  0.0  0.0  0.000000  0.0  0.0  0.004695  0.014085  0.0  0.0  \n",
       "12 ...   0.0  0.0  0.0  0.000000  0.0  0.0  0.000236  0.007542  0.0  0.0  \n",
       "13 ...   0.0  0.0  0.0  0.000000  0.0  0.0  0.000605  0.007411  0.0  0.0  \n",
       "14 ...   0.0  0.0  0.0  0.000000  0.0  0.0  0.000000  0.036364  0.0  0.0  \n",
       "15 ...   0.0  0.0  0.0  0.000000  0.0  0.0  0.003158  0.015789  0.0  0.0  \n",
       "16 ...   0.0  0.0  0.0  0.000014  0.0  0.0  0.001133  0.014533  0.0  0.0  \n",
       "17 ...   0.0  0.0  0.0  0.000000  0.0  0.0  0.001307  0.005229  0.0  0.0  \n",
       "18 ...   0.0  0.0  0.0  0.000000  0.0  0.0  0.000000  0.002024  0.0  0.0  \n",
       "19 ...   0.0  0.0  0.0  0.000000  0.0  0.0  0.000476  0.035228  0.0  0.0  \n",
       "20 ...   0.0  0.0  0.0  0.000000  0.0  0.0  0.001138  0.013409  0.0  0.0  \n",
       "21 ...   0.0  0.0  0.0  0.000000  0.0  0.0  0.001148  0.018741  0.0  0.0  \n",
       "22 ...   0.0  0.0  0.0  0.000000  0.0  0.0  0.000000  0.000000  0.0  0.0  \n",
       "23 ...   0.0  0.0  0.0  0.000000  0.0  0.0  0.000000  0.000331  0.0  0.0  \n",
       "24 ...   0.0  0.0  0.0  0.000000  0.0  0.0  0.001610  0.019324  0.0  0.0  \n",
       "25 ...   0.0  0.0  0.0  0.000000  0.0  0.0  0.001755  0.037187  0.0  0.0  \n",
       "26 ...   0.0  0.0  0.0  0.000000  0.0  0.0  0.000000  0.022250  0.0  0.0  \n",
       "27 ...   0.0  0.0  0.0  0.000000  0.0  0.0  0.001251  0.025763  0.0  0.0  \n",
       "28 ...   0.0  0.0  0.0  0.000000  0.0  0.0  0.003948  0.014100  0.0  0.0  \n",
       "29 ...   0.0  0.0  0.0  0.000000  0.0  0.0  0.000000  0.035714  0.0  0.0  \n",
       "30 ...   0.0  0.0  0.0  0.000000  0.0  0.0  0.001078  0.015633  0.0  0.0  \n",
       "31 ...   0.0  0.0  0.0  0.000000  0.0  0.0  0.000000  0.004695  0.0  0.0  \n",
       "32 ...   0.0  0.0  0.0  0.000000  0.0  0.0  0.001280  0.017359  0.0  0.0  \n",
       "33 ...   0.0  0.0  0.0  0.000000  0.0  0.0  0.000000  0.000000  0.0  0.0  \n",
       "34 ...   0.0  0.0  0.0  0.000000  0.0  0.0  0.000339  0.007463  0.0  0.0  \n",
       "35 ...   0.0  0.0  0.0  0.000000  0.0  0.0  0.003021  0.034573  0.0  0.0  \n",
       "36 ...   0.0  0.0  0.0  0.000000  0.0  0.0  0.002326  0.055121  0.0  0.0  \n",
       "37 ...   0.0  0.0  0.0  0.000000  0.0  0.0  0.000413  0.010396  0.0  0.0  \n",
       "38 ...   0.0  0.0  0.0  0.000000  0.0  0.0  0.001758  0.021981  0.0  0.0  \n",
       "\n",
       "[39 rows x 39 columns]"
      ]
     },
     "execution_count": 96,
     "metadata": {},
     "output_type": "execute_result"
    }
   ],
   "source": [
    "# Normalized confusion matrix - Creating percentages of predicted values\n",
    "cm_normalized = cm.astype('float') / cm.sum(axis=1)[:, np.newaxis]\n",
    "pd.DataFrame(cm_normalized)"
   ]
  },
  {
   "cell_type": "code",
   "execution_count": 98,
   "metadata": {
    "collapsed": false,
    "scrolled": true
   },
   "outputs": [
    {
     "name": "stdout",
     "output_type": "stream",
     "text": [
      "(0, 0.0)\n",
      "(1, 0.055829281822038043)\n",
      "(2, 0.0)\n",
      "(3, 0.0)\n",
      "(4, 0.0081839702401082185)\n",
      "(5, 0.0)\n",
      "(6, 0.0)\n",
      "(7, 0.11147270477150846)\n",
      "(8, 0.0)\n",
      "(9, 0.0)\n",
      "(10, 0.0)\n",
      "(11, 0.0)\n",
      "(12, 0.0014140938015555031)\n",
      "(13, 0.00030248033877797946)\n",
      "(14, 0.0)\n",
      "(15, 0.0)\n",
      "(16, 0.74798789148243261)\n",
      "(17, 0.0)\n",
      "(18, 0.0)\n",
      "(19, 0.037322669713415212)\n",
      "(20, 0.051550860083976704)\n",
      "(21, 0.37095305944747881)\n",
      "(22, 0.0)\n",
      "(23, 0.015578389128273119)\n",
      "(24, 0.0)\n",
      "(25, 0.0)\n",
      "(26, 0.0)\n",
      "(27, 0.0)\n",
      "(28, 0.0)\n",
      "(29, 0.0)\n",
      "(30, 0.0)\n",
      "(31, 0.0)\n",
      "(32, 0.0)\n",
      "(33, 0.0)\n",
      "(34, 0.0)\n",
      "(35, 0.0030209790209790211)\n",
      "(36, 0.055121406642478367)\n",
      "(37, 0.0)\n",
      "(38, 0.0)\n"
     ]
    }
   ],
   "source": [
    "# Find categories we're doing well on\n",
    "diagonal = np.diag(cm_normalized)\n",
    "\n",
    "for item in enumerate(diagonal):\n",
    "    print(item)"
   ]
  },
  {
   "cell_type": "code",
   "execution_count": 100,
   "metadata": {
    "collapsed": false
   },
   "outputs": [
    {
     "name": "stdout",
     "output_type": "stream",
     "text": [
      "LARCENY/THEFT\n"
     ]
    }
   ],
   "source": [
    "# It appears that we're doing well on index 16, which is larceny/theft\n",
    "print (categories[16])"
   ]
  },
  {
   "cell_type": "code",
   "execution_count": 101,
   "metadata": {
    "collapsed": false,
    "scrolled": true
   },
   "outputs": [],
   "source": [
    "# Function to plot the confusion matrix\n",
    "# This code was adapted from the following website: http://scikit-learn.org/stable/auto_examples/model_selection/plot_confusion_matrix.html#sphx-glr-auto-examples-model-selection-plot-confusion-matrix-py\n",
    "\n",
    "def plot_confusion_matrix(cm, classes,\n",
    "                          normalize=False,\n",
    "                          title='Confusion matrix',\n",
    "                          cmap=plt.cm.Blues):\n",
    "    \"\"\"\n",
    "    This function prints and plots the confusion matrix.\n",
    "    Normalization can be applied by setting `normalize=True`.\n",
    "    \"\"\"\n",
    "    plt.imshow(cm, interpolation='nearest', cmap=cmap)\n",
    "    plt.title(title)\n",
    "    plt.colorbar()\n",
    "    tick_marks = np.arange(len(classes))\n",
    "    plt.xticks(tick_marks, classes, rotation=45)\n",
    "    plt.yticks(tick_marks, classes)\n",
    "\n",
    "    if normalize:\n",
    "        cm = cm.astype('float') / cm.sum(axis=1)[:, np.newaxis]\n",
    "    else:\n",
    "        pass\n",
    "\n",
    "#     print(cm)\n",
    "\n",
    "#     thresh = cm.max() / 2.\n",
    "#     for i, j in itertools.product(range(cm.shape[0]), range(cm.shape[1])):\n",
    "#         plt.text(j, i, cm[i, j],\n",
    "#                  horizontalalignment=\"center\",\n",
    "#                  color=\"white\" if cm[i, j] > thresh else \"black\")\n",
    "\n",
    "    plt.tight_layout()\n",
    "    plt.ylabel('True label')\n",
    "    plt.xlabel('Predicted label')"
   ]
  },
  {
   "cell_type": "code",
   "execution_count": 102,
   "metadata": {
    "collapsed": false,
    "scrolled": false
   },
   "outputs": [
    {
     "data": {
      "image/png": "[encoded data removed]",
      "text/plain": [
       "<matplotlib.figure.Figure at 0x2aaa9df8cc0>"
      ]
     },
     "metadata": {},
     "output_type": "display_data"
    },
    {
     "data": {
      "image/png": "[encoded data removed]",
      "text/plain": [
       "<matplotlib.figure.Figure at 0x2aaa9daa1d0>"
      ]
     },
     "metadata": {},
     "output_type": "display_data"
    }
   ],
   "source": [
    "# Plot non-normalized confusion matrix\n",
    "plt.figure(figsize=(10,10))\n",
    "plot_confusion_matrix(cm, classes=categories_encoded, \n",
    "                      title='Confusion matrix, without normalization')\n",
    "\n",
    "# # Plot normalized confusion matrix\n",
    "plt.figure(figsize=(10,10))\n",
    "plot_confusion_matrix(cm, classes=categories_encoded, normalize=True,\n",
    "                      title='Normalized confusion matrix')\n",
    "\n",
    "plt.show()"
   ]
  },
  {
   "cell_type": "markdown",
   "metadata": {},
   "source": [
    "Based on the off-diagonals, the plot for the normalized confusion matrix seems to suggest that (20,16) and (21,16) are doing poorly."
   ]
  },
  {
   "cell_type": "code",
   "execution_count": 104,
   "metadata": {
    "collapsed": false,
    "scrolled": true
   },
   "outputs": [
    {
     "name": "stdout",
     "output_type": "stream",
     "text": [
      "16 LARCENY/THEFT\n",
      "20 NON-CRIMINAL\n",
      "21 OTHER OFFENSES\n"
     ]
    }
   ],
   "source": [
    "print (16, categories[16])\n",
    "print (20, categories[20])\n",
    "print (21, categories[21])"
   ]
  },
  {
   "cell_type": "markdown",
   "metadata": {},
   "source": [
    "This suggests that \"Non-Criminal\" and \"Other Offenses\" are being incorrectly labeled as \"Larcency/Theft\"."
   ]
  },
  {
   "cell_type": "code",
   "execution_count": 106,
   "metadata": {
    "collapsed": false,
    "scrolled": true
   },
   "outputs": [
    {
     "name": "stdout",
     "output_type": "stream",
     "text": [
      "Training Data: Top 5 crimes\n",
      "          Category   Dates\n",
      "16   LARCENY/THEFT  174900\n",
      "21  OTHER OFFENSES  126182\n",
      "20    NON-CRIMINAL   92304\n",
      "1          ASSAULT   76876\n",
      "7    DRUG/NARCOTIC   53971\n",
      "\n"
     ]
    }
   ],
   "source": [
    "# As mentioned before, here are the top 5 crimes:\n",
    "print (\"Training Data: Top 5 crimes\")\n",
    "print (category_count.sort_values(by=\"Dates\", ascending=False)[:5])\n",
    "print (\"\")"
   ]
  },
  {
   "cell_type": "code",
   "execution_count": 107,
   "metadata": {
    "collapsed": false,
    "scrolled": true
   },
   "outputs": [
    {
     "name": "stdout",
     "output_type": "stream",
     "text": [
      "(0, 'ARSON')\n",
      "(1, 'ASSAULT')\n",
      "(2, 'BAD CHECKS')\n",
      "(3, 'BRIBERY')\n",
      "(4, 'BURGLARY')\n",
      "(5, 'DISORDERLY CONDUCT')\n",
      "(6, 'DRIVING UNDER THE INFLUENCE')\n",
      "(7, 'DRUG/NARCOTIC')\n",
      "(8, 'DRUNKENNESS')\n",
      "(9, 'EMBEZZLEMENT')\n",
      "(10, 'EXTORTION')\n",
      "(11, 'FAMILY OFFENSES')\n",
      "(12, 'FORGERY/COUNTERFEITING')\n",
      "(13, 'FRAUD')\n",
      "(14, 'GAMBLING')\n",
      "(15, 'KIDNAPPING')\n",
      "(16, 'LARCENY/THEFT')\n",
      "(17, 'LIQUOR LAWS')\n",
      "(18, 'LOITERING')\n",
      "(19, 'MISSING PERSON')\n",
      "(20, 'NON-CRIMINAL')\n",
      "(21, 'OTHER OFFENSES')\n",
      "(22, 'PORNOGRAPHY/OBSCENE MAT')\n",
      "(23, 'PROSTITUTION')\n",
      "(24, 'RECOVERED VEHICLE')\n",
      "(25, 'ROBBERY')\n",
      "(26, 'RUNAWAY')\n",
      "(27, 'SECONDARY CODES')\n",
      "(28, 'SEX OFFENSES FORCIBLE')\n",
      "(29, 'SEX OFFENSES NON FORCIBLE')\n",
      "(30, 'STOLEN PROPERTY')\n",
      "(31, 'SUICIDE')\n",
      "(32, 'SUSPICIOUS OCC')\n",
      "(33, 'TREA')\n",
      "(34, 'TRESPASS')\n",
      "(35, 'VANDALISM')\n",
      "(36, 'VEHICLE THEFT')\n",
      "(37, 'WARRANTS')\n",
      "(38, 'WEAPON LAWS')\n"
     ]
    }
   ],
   "source": [
    "# Printing the index for each crime\n",
    "for item in enumerate(categories):\n",
    "    print (item)"
   ]
  },
  {
   "cell_type": "markdown",
   "metadata": {},
   "source": [
    "Based off of the above, we can see that the indexes for the top 5 crime are as follows:\n",
    "- (16, 'LARCENY/THEFT')\n",
    "- (21, 'OTHER OFFENSES')\n",
    "- (20, 'NON-CRIMINAL')\n",
    "- (1, 'ASSAULT')\n",
    "- (7, 'DRUG/NARCOTIC')"
   ]
  },
  {
   "cell_type": "code",
   "execution_count": 108,
   "metadata": {
    "collapsed": false
   },
   "outputs": [
    {
     "name": "stdout",
     "output_type": "stream",
     "text": [
      "LARCENY/THEFT is being confused as OTHER OFFENSES\n",
      "OTHER OFFENSES is being confused as LARCENY/THEFT\n",
      "NON-CRIMINAL is being confused as LARCENY/THEFT\n",
      "ASSAULT is being confused as LARCENY/THEFT\n",
      "DRUG/NARCOTIC is being confused as LARCENY/THEFT\n"
     ]
    }
   ],
   "source": [
    "# For the top 5 crimes, find the biggest category it is being confused with\n",
    "for crime in [16, 21, 20, 1, 7]:\n",
    "    max = 0\n",
    "    for item in enumerate(cm_normalized[crime]):\n",
    "        if (item[0] != crime) & (item[1] > max):\n",
    "            max = item[1]\n",
    "            max_index = item[0]\n",
    "        else:\n",
    "            continue\n",
    "    print (categories[crime], \"is being confused as\", categories[max_index])"
   ]
  },
  {
   "cell_type": "markdown",
   "metadata": {},
   "source": [
    "### Iteration 3\n",
    "\n",
    "#### Adding in Other Time and Location Features\n",
    "\n",
    "This may result in better predictions"
   ]
  },
  {
   "cell_type": "code",
   "execution_count": 448,
   "metadata": {
    "collapsed": true
   },
   "outputs": [],
   "source": [
    "# Get binarized weekdays, neighborhoods, and hours\n",
    "days = pd.get_dummies(train_data_full.DayOfWeek)\n",
    "neighborhoods = pd.get_dummies(train_data_full.Neighborhood)\n",
    "dayofmonth = pd.get_dummies(train_data_full.DayOfMonth)\n",
    "timecat = pd.get_dummies(train_data_full.TimeCat_Str)"
   ]
  },
  {
   "cell_type": "code",
   "execution_count": 449,
   "metadata": {
    "collapsed": true
   },
   "outputs": [],
   "source": [
    "# Build new array\n",
    "trainData3 = pd.concat([days, neighborhoods, dayofmonth, timecat], axis=1)\n",
    "trainData3['crime']=crime"
   ]
  },
  {
   "cell_type": "code",
   "execution_count": 453,
   "metadata": {
    "collapsed": false
   },
   "outputs": [
    {
     "name": "stdout",
     "output_type": "stream",
     "text": [
      "['Monday', 'Saturday', 'Friday', 'Wednesday', 'Sunday', 'Thursday', 'Tuesday', 'Van Ness - Civic Center', 'Forest Knolls', 'Balboa Terrace', 'Diamond Heights', 'Nob Hill', 'Lake', 'Mission Terrace', 'North Beach', 'Treasure Island', 'Mission Bay', 'Lower Pacific Heights', 'Lakeshore', 'Western Addition', 'Inner Sunset', 'Bayview', 'Golden Gate Heights', 'Inner Richmond', 'Pacific Heights', 'Parnassus - Ashbury', 'Glen Park', 'Chinatown', 'Clarendon Heights', 'Miraloma Park', 'Westwood Highlands', 'Potrero Hill', 'Lakeside', 'Parkside', 'Crocker Amazon', 'Hunters Point', 'Haight-Ashbury', 'West Portal', 'Twin Peaks', 'Financial District', 'Forest Hill', 'Merced Heights', 'Cow Hollow', 'Yerba Buena Island', 'Sherwood Forest', 'Buena Vista Park', 'South Beach', 'Stonestown', 'Lone Mountain', 'Ingleside Heights', 'Presidio', 'Jordan Park - Laurel Heights', 'Corona Heights', 'Outer Richmond', 'Outer Sunset', 'Russian Hill', 'Mount Davidson Manor', 'Inner Parkside', 'Duboce Triangle', 'Central Sunset', 'St. Francis Wood', 'North Waterfront', 'Sea Cliff', 'Monterey Heights', 'Midtown Terrace', 'Hayes Valley', 'Mission', 'Outer Parkside', 'Central Richmond', 'Yerba Buena', 'Portola', 'Outer Mission', 'Excelsior', 'Sunnyside', 'North Panhandle', 'Westwood Park', 'Presidio Heights', 'Anza Vista', 'Visitacion Valley', 'Telegraph Hill', 'Bernal Heights', 'Ingleside', 'Golden Gate Park', 'Ingleside Terrace', 'South of Market', 'Central Waterfront - Dogpatch', 'Marina', 'Noe Valley', 'Eureka Valley - Dolores Heights - Castro', 'Downtown', 1, 2, 3, 4, 5, 6, 7, 8, 9, 10, 11, 12, 13, 14, 15, 16, 17, 18, 19, 20, 21, 22, 23, 24, 25, 26, 27, 28, 29, 30, 31, 'midday', 'evening', 'late_night', 'morning']\n"
     ]
    }
   ],
   "source": [
    "feature_day = list(set(np.unique(train_data_full[\"DayOfWeek\"])))\n",
    "feature_neighborhood = list(set(train_data_full[\"Neighborhood\"]))\n",
    "feature_dayofmonth = list(set(np.unique(train_data_full[\"DayOfMonth\"])))\n",
    "feature_timecat = list(set(np.unique(train_data_full[\"TimeCat_Str\"])))\n",
    "features3 = feature_day + feature_neighborhood + feature_dayofmonth + feature_timecat \n",
    "features3.remove(None)\n",
    "\n",
    "print (features3)\n",
    "feature_labels3 = ['Day of Week', 'Neighborhood', 'Day of Month', 'Time Category']"
   ]
  },
  {
   "cell_type": "code",
   "execution_count": 454,
   "metadata": {
    "collapsed": true
   },
   "outputs": [],
   "source": [
    "training3, validation3 = train_test_split(trainData3, train_size=.60)"
   ]
  },
  {
   "cell_type": "code",
   "execution_count": 455,
   "metadata": {
    "collapsed": false,
    "scrolled": true
   },
   "outputs": [
    {
     "data": {
      "text/plain": [
       "2.6206013855129253"
      ]
     },
     "execution_count": 455,
     "metadata": {},
     "output_type": "execute_result"
    }
   ],
   "source": [
    "# Naive bayes\n",
    "alphas = {'alpha': [0.0, 0.0001, 0.001, 0.01, 0.1, 0.5, 1.0, 2.0, 10.0, 15.0, 20.0, 30.0, 40.0, 50.0, 80.0, 100.0, 200.0]}\n",
    "nb3 = best_e_nb(alphas,training3[features3],training3['crime'])  #get the best alpha via grid search\n",
    "alpha = nb3.best_params_['alpha']\n",
    "model_NB3 = BernoulliNB(alpha=alpha,binarize=0.5)\n",
    "model_NB3.fit(training3[features3], training3['crime'])\n",
    "predicted_NB3 = np.array(model_NB3.predict_proba(validation3[features3]))\n",
    "log_loss(validation3['crime'], predicted_NB3)"
   ]
  },
  {
   "cell_type": "code",
   "execution_count": 456,
   "metadata": {
    "collapsed": false
   },
   "outputs": [
    {
     "data": {
      "text/plain": [
       "2.567847124204818"
      ]
     },
     "execution_count": 456,
     "metadata": {},
     "output_type": "execute_result"
    }
   ],
   "source": [
    "# Logistic regression\n",
    "#GridSearch takes too long for LR, we chose C of 1.0\n",
    "C = 1.0\n",
    "model_LR3 = LogisticRegression(C=C)\n",
    "model_LR3.fit(training3[features3], training3['crime'])\n",
    "predicted_LR3 = np.array(model_LR3.predict_proba(validation3[features3]))\n",
    "log_loss(validation3['crime'], predicted_LR3) "
   ]
  },
  {
   "cell_type": "markdown",
   "metadata": {},
   "source": [
    "### Iteration 4\n",
    "\n",
    "#### Adding Year and Month"
   ]
  },
  {
   "cell_type": "code",
   "execution_count": 467,
   "metadata": {
    "collapsed": true
   },
   "outputs": [],
   "source": [
    "# Get binarized weekdays, neighborhoods, and hours\n",
    "days = pd.get_dummies(train_data_full.DayOfWeek)\n",
    "neighborhoods = pd.get_dummies(train_data_full.Neighborhood)\n",
    "hour = pd.get_dummies(train_data_full.Hour)"
   ]
  },
  {
   "cell_type": "code",
   "execution_count": 468,
   "metadata": {
    "collapsed": false
   },
   "outputs": [],
   "source": [
    "# Create year and month features\n",
    "year = train_data_full.Dates.dt.year\n",
    "year = pd.get_dummies(year)\n",
    "\n",
    "month = pd.get_dummies(train_data_full.Month_Str)"
   ]
  },
  {
   "cell_type": "code",
   "execution_count": 469,
   "metadata": {
    "collapsed": true
   },
   "outputs": [],
   "source": [
    "# Build new array\n",
    "trainData4 = pd.concat([days, neighborhoods, hour, month], axis=1)\n",
    "trainData4['crime']=crime"
   ]
  },
  {
   "cell_type": "code",
   "execution_count": 471,
   "metadata": {
    "collapsed": false
   },
   "outputs": [
    {
     "name": "stdout",
     "output_type": "stream",
     "text": [
      "['Monday', 'Saturday', 'Friday', 'Wednesday', 'Sunday', 'Thursday', 'Tuesday', 'Van Ness - Civic Center', 'Forest Knolls', 'Balboa Terrace', 'Diamond Heights', 'Nob Hill', 'Lake', 'Mission Terrace', 'North Beach', 'Treasure Island', 'Mission Bay', 'Lower Pacific Heights', 'Lakeshore', 'Western Addition', 'Inner Sunset', 'Bayview', 'Golden Gate Heights', 'Inner Richmond', 'Pacific Heights', 'Parnassus - Ashbury', 'Glen Park', 'Chinatown', 'Clarendon Heights', 'Miraloma Park', 'Westwood Highlands', 'Potrero Hill', 'Lakeside', 'Parkside', 'Crocker Amazon', 'Hunters Point', 'Haight-Ashbury', 'West Portal', 'Twin Peaks', 'Financial District', 'Forest Hill', 'Merced Heights', 'Cow Hollow', 'Yerba Buena Island', 'Sherwood Forest', 'Buena Vista Park', 'South Beach', 'Stonestown', 'Lone Mountain', 'Ingleside Heights', 'Presidio', 'Jordan Park - Laurel Heights', 'Corona Heights', 'Outer Richmond', 'Outer Sunset', 'Russian Hill', 'Mount Davidson Manor', 'Inner Parkside', 'Duboce Triangle', 'Central Sunset', 'St. Francis Wood', 'North Waterfront', 'Sea Cliff', 'Monterey Heights', 'Midtown Terrace', 'Hayes Valley', 'Mission', 'Outer Parkside', 'Central Richmond', 'Yerba Buena', 'Portola', 'Outer Mission', 'Excelsior', 'Sunnyside', 'North Panhandle', 'Westwood Park', 'Presidio Heights', 'Anza Vista', 'Visitacion Valley', 'Telegraph Hill', 'Bernal Heights', 'Ingleside', 'Golden Gate Park', 'Ingleside Terrace', 'South of Market', 'Central Waterfront - Dogpatch', 'Marina', 'Noe Valley', 'Eureka Valley - Dolores Heights - Castro', 'Downtown', '0:00', '13:00', '1:00', '3:00', '11:00', '12:00', '23:00', '18:00', '22:00', '15:00', '9:00', '16:00', '4:00', '2:00', '14:00', '20:00', '21:00', '8:00', '6:00', '5:00', '7:00', '17:00', '10:00', '19:00', 'Oct', None, 'Sep', 'Jan', 'Jul', 'Mar', 'Nov', 'Aug', 'Feb', 'Apr', 'May', 'Jun']\n"
     ]
    }
   ],
   "source": [
    "feature_day = list(set(np.unique(train_data_full[\"DayOfWeek\"])))\n",
    "feature_neighborhood = list(set((train_data_full[\"Neighborhood\"])))\n",
    "feature_hour = list(set((train_data_full[\"Hour\"])))\n",
    "feature_year = list(year.columns)\n",
    "feature_month = list(set((train_data_full[\"Month_Str\"])))\n",
    "features4 = feature_day + feature_neighborhood + feature_hour + feature_month\n",
    "features4.remove(None)\n",
    "\n",
    "print (features4)\n",
    "feature_labels4 = ['Day of Week', 'Neighborhood', 'Hour', 'Month']"
   ]
  },
  {
   "cell_type": "code",
   "execution_count": 472,
   "metadata": {
    "collapsed": true
   },
   "outputs": [],
   "source": [
    "features4.remove(None)"
   ]
  },
  {
   "cell_type": "code",
   "execution_count": 473,
   "metadata": {
    "collapsed": true
   },
   "outputs": [],
   "source": [
    "training4, validation4 = train_test_split(trainData4, train_size=.60)"
   ]
  },
  {
   "cell_type": "code",
   "execution_count": 474,
   "metadata": {
    "collapsed": false
   },
   "outputs": [
    {
     "data": {
      "text/plain": [
       "2.5857616215799686"
      ]
     },
     "execution_count": 474,
     "metadata": {},
     "output_type": "execute_result"
    }
   ],
   "source": [
    "# Naive bayes\n",
    "alphas = {'alpha': [0.0, 0.0001, 0.001, 0.01, 0.1, 0.5, 1.0, 2.0, 10.0, 15.0, 20.0, 30.0, 40.0, 50.0, 80.0, 100.0, 200.0]}\n",
    "nb4 = best_e_nb(alphas,training4[features4],training4['crime'])  #get the best alpha via grid search\n",
    "alpha = nb4.best_params_['alpha']\n",
    "model_NB4 = BernoulliNB(alpha=alpha,binarize=0.5)\n",
    "model_NB4.fit(training4[features4], training4['crime'])\n",
    "predicted_NB4 = np.array(model_NB4.predict_proba(validation4[features4]))\n",
    "log_loss(validation4['crime'], predicted_NB4) "
   ]
  },
  {
   "cell_type": "code",
   "execution_count": 475,
   "metadata": {
    "collapsed": false
   },
   "outputs": [
    {
     "data": {
      "text/plain": [
       "2.5556164066890226"
      ]
     },
     "execution_count": 475,
     "metadata": {},
     "output_type": "execute_result"
    }
   ],
   "source": [
    "# Logistic regression\n",
    "#GridSearch takes too long for LR, we chose C of 1.0\n",
    "C = 1.0\n",
    "model_LR4 = LogisticRegression(C=C)\n",
    "model_LR4.fit(training4[features4], training4['crime'])\n",
    "predicted_LR4 = np.array(model_LR4.predict_proba(validation4[features4]))\n",
    "log_loss(validation4['crime'], predicted_LR4) "
   ]
  },
  {
   "cell_type": "markdown",
   "metadata": {},
   "source": [
    "### Iteration 5\n",
    "\n",
    "#### With XY Coordinates"
   ]
  },
  {
   "cell_type": "code",
   "execution_count": 276,
   "metadata": {
    "collapsed": false
   },
   "outputs": [],
   "source": [
    "trainData5 = train_data_full[['X', 'Y']]\n",
    "trainData5['crime']=crime\n",
    "features5 = ['X', 'Y']\n",
    "feature_labels5 = ['X', 'Y']"
   ]
  },
  {
   "cell_type": "code",
   "execution_count": 277,
   "metadata": {
    "collapsed": false
   },
   "outputs": [
    {
     "data": {
      "text/html": [
       "<div>\n",
       "<table border=\"1\" class=\"dataframe\">\n",
       "  <thead>\n",
       "    <tr style=\"text-align: right;\">\n",
       "      <th></th>\n",
       "      <th>X</th>\n",
       "      <th>Y</th>\n",
       "      <th>crime</th>\n",
       "    </tr>\n",
       "  </thead>\n",
       "  <tbody>\n",
       "    <tr>\n",
       "      <th>0</th>\n",
       "      <td>-122.425891675136</td>\n",
       "      <td>37.7745985956747</td>\n",
       "      <td>37</td>\n",
       "    </tr>\n",
       "    <tr>\n",
       "      <th>1</th>\n",
       "      <td>-122.425891675136</td>\n",
       "      <td>37.7745985956747</td>\n",
       "      <td>21</td>\n",
       "    </tr>\n",
       "    <tr>\n",
       "      <th>2</th>\n",
       "      <td>-122.42436302145</td>\n",
       "      <td>37.8004143219856</td>\n",
       "      <td>21</td>\n",
       "    </tr>\n",
       "    <tr>\n",
       "      <th>3</th>\n",
       "      <td>-122.42699532676599</td>\n",
       "      <td>37.80087263276921</td>\n",
       "      <td>16</td>\n",
       "    </tr>\n",
       "    <tr>\n",
       "      <th>4</th>\n",
       "      <td>-122.438737622757</td>\n",
       "      <td>37.771541172057795</td>\n",
       "      <td>16</td>\n",
       "    </tr>\n",
       "  </tbody>\n",
       "</table>\n",
       "</div>"
      ],
      "text/plain": [
       "                     X                   Y  crime\n",
       "0    -122.425891675136    37.7745985956747     37\n",
       "1    -122.425891675136    37.7745985956747     21\n",
       "2     -122.42436302145    37.8004143219856     21\n",
       "3  -122.42699532676599   37.80087263276921     16\n",
       "4    -122.438737622757  37.771541172057795     16"
      ]
     },
     "execution_count": 277,
     "metadata": {},
     "output_type": "execute_result"
    }
   ],
   "source": [
    "trainData5.head()"
   ]
  },
  {
   "cell_type": "code",
   "execution_count": 278,
   "metadata": {
    "collapsed": true
   },
   "outputs": [],
   "source": [
    "training5, validation5 = train_test_split(trainData5, train_size=.60)"
   ]
  },
  {
   "cell_type": "code",
   "execution_count": 317,
   "metadata": {
    "collapsed": false,
    "scrolled": false
   },
   "outputs": [
    {
     "data": {
      "text/plain": [
       "2.6749876243931006"
      ]
     },
     "execution_count": 317,
     "metadata": {},
     "output_type": "execute_result"
    }
   ],
   "source": [
    "# Logistic regression\n",
    "#GridSearch takes too long for LR, we chose C of 1.0\n",
    "C = 1.0\n",
    "model_LR5 = LogisticRegression(C=C)\n",
    "model_LR5.fit(trainData5[['X','Y']], trainData5['crime'])\n",
    "predicted_LR5 = np.array(model_LR5.predict_proba(validation5[['X','Y']]))\n",
    "log_loss(validation5['crime'], predicted_LR5) "
   ]
  },
  {
   "cell_type": "markdown",
   "metadata": {},
   "source": [
    "### Iteration 6\n",
    "\n",
    "#### NB with Day of Week, Neighborhood, Hour, Season"
   ]
  },
  {
   "cell_type": "code",
   "execution_count": 476,
   "metadata": {
    "collapsed": true
   },
   "outputs": [],
   "source": [
    "# Get binarized weekdays, neighborhoods, hours, seasons\n",
    "days = pd.get_dummies(train_data_full.DayOfWeek)\n",
    "neighborhoods = pd.get_dummies(train_data_full.Neighborhood)\n",
    "hour = pd.get_dummies(train_data_full.Hour)\n",
    "season = pd.get_dummies(train_data_full.Season_Str)"
   ]
  },
  {
   "cell_type": "code",
   "execution_count": 477,
   "metadata": {
    "collapsed": true
   },
   "outputs": [],
   "source": [
    "# Build new array\n",
    "trainData6 = pd.concat([days, neighborhoods, hour, season], axis=1)\n",
    "trainData6['crime']=crime"
   ]
  },
  {
   "cell_type": "code",
   "execution_count": 478,
   "metadata": {
    "collapsed": false
   },
   "outputs": [
    {
     "name": "stdout",
     "output_type": "stream",
     "text": [
      "['Monday', 'Saturday', 'Friday', 'Wednesday', 'Sunday', 'Thursday', 'Tuesday', 'Van Ness - Civic Center', 'Forest Knolls', 'Balboa Terrace', 'Diamond Heights', 'Nob Hill', 'Lake', 'Mission Terrace', 'North Beach', 'Treasure Island', 'Mission Bay', 'Lower Pacific Heights', 'Lakeshore', 'Western Addition', 'Inner Sunset', 'Bayview', 'Golden Gate Heights', 'Inner Richmond', 'Pacific Heights', 'Parnassus - Ashbury', 'Glen Park', 'Chinatown', 'Clarendon Heights', 'Miraloma Park', 'Westwood Highlands', 'Potrero Hill', 'Lakeside', 'Parkside', 'Crocker Amazon', 'Hunters Point', 'Haight-Ashbury', 'West Portal', 'Twin Peaks', 'Financial District', 'Forest Hill', 'Merced Heights', 'Cow Hollow', 'Yerba Buena Island', 'Sherwood Forest', 'Buena Vista Park', 'South Beach', 'Stonestown', 'Lone Mountain', 'Ingleside Heights', 'Presidio', 'Jordan Park - Laurel Heights', 'Corona Heights', 'Outer Richmond', 'Outer Sunset', 'Russian Hill', 'Mount Davidson Manor', 'Inner Parkside', 'Duboce Triangle', 'Central Sunset', 'St. Francis Wood', 'North Waterfront', 'Sea Cliff', 'Monterey Heights', 'Midtown Terrace', 'Hayes Valley', 'Mission', 'Outer Parkside', 'Central Richmond', 'Yerba Buena', 'Portola', 'Outer Mission', 'Excelsior', 'Sunnyside', 'North Panhandle', 'Westwood Park', 'Presidio Heights', 'Anza Vista', 'Visitacion Valley', 'Telegraph Hill', 'Bernal Heights', 'Ingleside', 'Golden Gate Park', 'Ingleside Terrace', 'South of Market', 'Central Waterfront - Dogpatch', 'Marina', 'Noe Valley', 'Eureka Valley - Dolores Heights - Castro', 'Downtown', '0:00', '13:00', '1:00', '3:00', '11:00', '12:00', '23:00', '18:00', '22:00', '15:00', '9:00', '16:00', '4:00', '2:00', '14:00', '20:00', '21:00', '8:00', '6:00', '5:00', '7:00', '17:00', '10:00', '19:00', 'Spring', 'Winter', 'Fall', 'Summer']\n"
     ]
    }
   ],
   "source": [
    "feature_day = list(set(np.unique(train_data_full[\"DayOfWeek\"])))\n",
    "feature_neighborhood = list(set(train_data_full[\"Neighborhood\"]))\n",
    "feature_hour = list(set(train_data_full[\"Hour\"]))\n",
    "feature_season = list(set(np.unique(train_data_full[\"Season_Str\"])))\n",
    "features6 = feature_day + feature_neighborhood + feature_hour + feature_season\n",
    "features6.remove(None)\n",
    "\n",
    "print (features6)\n",
    "\n",
    "feature_labels6 = ['Day of Week', 'Neighborhood', 'Hour', 'Season']"
   ]
  },
  {
   "cell_type": "code",
   "execution_count": 479,
   "metadata": {
    "collapsed": true
   },
   "outputs": [],
   "source": [
    "training6, validation6 = train_test_split(trainData6, train_size=.60)"
   ]
  },
  {
   "cell_type": "code",
   "execution_count": 480,
   "metadata": {
    "collapsed": false
   },
   "outputs": [
    {
     "data": {
      "text/plain": [
       "2.5688077661076298"
      ]
     },
     "execution_count": 480,
     "metadata": {},
     "output_type": "execute_result"
    }
   ],
   "source": [
    "# Naive bayes\n",
    "alphas = {'alpha': [0.0, 0.0001, 0.001, 0.01, 0.1, 0.5, 1.0, 2.0, 10.0, 15.0, 20.0, 30.0, 40.0, 50.0, 80.0, 100.0, 200.0]}\n",
    "nb6 = best_e_nb(alphas,training6[features6],training6['crime'])  #get the best alpha via grid search\n",
    "alpha = nb6.best_params_['alpha']\n",
    "model_NB6 = BernoulliNB(alpha=alpha,binarize=0.5)\n",
    "model_NB6.fit(training6[features6], training6['crime'])\n",
    "predicted_NB6 = np.array(model_NB6.predict_proba(validation6[features6]))\n",
    "log_loss(validation6['crime'], predicted_NB6) "
   ]
  },
  {
   "cell_type": "code",
   "execution_count": 481,
   "metadata": {
    "collapsed": false
   },
   "outputs": [
    {
     "data": {
      "text/plain": [
       "2.5555827427864388"
      ]
     },
     "execution_count": 481,
     "metadata": {},
     "output_type": "execute_result"
    }
   ],
   "source": [
    "# Logistic regression\n",
    "#GridSearch takes too long for LR, we chose C of 1.0\n",
    "C = 1.0\n",
    "model_LR6 = LogisticRegression(C=C)\n",
    "model_LR6.fit(training6[features6], training6['crime'])\n",
    "predicted_LR6 = np.array(model_LR6.predict_proba(validation6[features6]))\n",
    "log_loss(validation6['crime'], predicted_LR6) "
   ]
  },
  {
   "cell_type": "markdown",
   "metadata": {},
   "source": [
    "### Iteration 7\n",
    "\n",
    "#### Day of Week, Neighborhood, Hour, XNorm, YNorm"
   ]
  },
  {
   "cell_type": "code",
   "execution_count": 489,
   "metadata": {
    "collapsed": true
   },
   "outputs": [],
   "source": [
    "# Get binarized weekdays, neighborhoods, hours\n",
    "days = pd.get_dummies(train_data_full.DayOfWeek)\n",
    "neighborhoods = pd.get_dummies(train_data_full.Neighborhood)\n",
    "hour = pd.get_dummies(train_data_full.Hour)"
   ]
  },
  {
   "cell_type": "code",
   "execution_count": 490,
   "metadata": {
    "collapsed": true
   },
   "outputs": [],
   "source": [
    "xnorm = train_data_full['XNorm']\n",
    "ynorm = train_data_full['YNorm']"
   ]
  },
  {
   "cell_type": "code",
   "execution_count": 491,
   "metadata": {
    "collapsed": true
   },
   "outputs": [],
   "source": [
    "# Build new array\n",
    "trainData7 = pd.concat([days, neighborhoods, hour, xnorm, ynorm], axis=1)\n",
    "trainData7['crime']=crime"
   ]
  },
  {
   "cell_type": "code",
   "execution_count": 492,
   "metadata": {
    "collapsed": false
   },
   "outputs": [
    {
     "data": {
      "text/html": [
       "<div>\n",
       "<table border=\"1\" class=\"dataframe\">\n",
       "  <thead>\n",
       "    <tr style=\"text-align: right;\">\n",
       "      <th></th>\n",
       "      <th>Friday</th>\n",
       "      <th>Monday</th>\n",
       "      <th>Saturday</th>\n",
       "      <th>Sunday</th>\n",
       "      <th>Thursday</th>\n",
       "      <th>Tuesday</th>\n",
       "      <th>Wednesday</th>\n",
       "      <th>Anza Vista</th>\n",
       "      <th>Balboa Terrace</th>\n",
       "      <th>Bayview</th>\n",
       "      <th>...</th>\n",
       "      <th>3:00</th>\n",
       "      <th>4:00</th>\n",
       "      <th>5:00</th>\n",
       "      <th>6:00</th>\n",
       "      <th>7:00</th>\n",
       "      <th>8:00</th>\n",
       "      <th>9:00</th>\n",
       "      <th>XNorm</th>\n",
       "      <th>YNorm</th>\n",
       "      <th>crime</th>\n",
       "    </tr>\n",
       "  </thead>\n",
       "  <tbody>\n",
       "    <tr>\n",
       "      <th>0</th>\n",
       "      <td>0.0</td>\n",
       "      <td>0.0</td>\n",
       "      <td>0.0</td>\n",
       "      <td>0.0</td>\n",
       "      <td>0.0</td>\n",
       "      <td>0.0</td>\n",
       "      <td>1.0</td>\n",
       "      <td>0.0</td>\n",
       "      <td>0.0</td>\n",
       "      <td>0.0</td>\n",
       "      <td>...</td>\n",
       "      <td>0.0</td>\n",
       "      <td>0.0</td>\n",
       "      <td>0.0</td>\n",
       "      <td>0.0</td>\n",
       "      <td>0.0</td>\n",
       "      <td>0.0</td>\n",
       "      <td>0.0</td>\n",
       "      <td>0.043578</td>\n",
       "      <td>0.001276</td>\n",
       "      <td>37</td>\n",
       "    </tr>\n",
       "    <tr>\n",
       "      <th>1</th>\n",
       "      <td>0.0</td>\n",
       "      <td>0.0</td>\n",
       "      <td>0.0</td>\n",
       "      <td>0.0</td>\n",
       "      <td>0.0</td>\n",
       "      <td>0.0</td>\n",
       "      <td>1.0</td>\n",
       "      <td>0.0</td>\n",
       "      <td>0.0</td>\n",
       "      <td>0.0</td>\n",
       "      <td>...</td>\n",
       "      <td>0.0</td>\n",
       "      <td>0.0</td>\n",
       "      <td>0.0</td>\n",
       "      <td>0.0</td>\n",
       "      <td>0.0</td>\n",
       "      <td>0.0</td>\n",
       "      <td>0.0</td>\n",
       "      <td>0.043578</td>\n",
       "      <td>0.001276</td>\n",
       "      <td>21</td>\n",
       "    </tr>\n",
       "    <tr>\n",
       "      <th>2</th>\n",
       "      <td>0.0</td>\n",
       "      <td>0.0</td>\n",
       "      <td>0.0</td>\n",
       "      <td>0.0</td>\n",
       "      <td>0.0</td>\n",
       "      <td>0.0</td>\n",
       "      <td>1.0</td>\n",
       "      <td>0.0</td>\n",
       "      <td>0.0</td>\n",
       "      <td>0.0</td>\n",
       "      <td>...</td>\n",
       "      <td>0.0</td>\n",
       "      <td>0.0</td>\n",
       "      <td>0.0</td>\n",
       "      <td>0.0</td>\n",
       "      <td>0.0</td>\n",
       "      <td>0.0</td>\n",
       "      <td>0.0</td>\n",
       "      <td>0.044337</td>\n",
       "      <td>0.001770</td>\n",
       "      <td>21</td>\n",
       "    </tr>\n",
       "    <tr>\n",
       "      <th>3</th>\n",
       "      <td>0.0</td>\n",
       "      <td>0.0</td>\n",
       "      <td>0.0</td>\n",
       "      <td>0.0</td>\n",
       "      <td>0.0</td>\n",
       "      <td>0.0</td>\n",
       "      <td>1.0</td>\n",
       "      <td>0.0</td>\n",
       "      <td>0.0</td>\n",
       "      <td>0.0</td>\n",
       "      <td>...</td>\n",
       "      <td>0.0</td>\n",
       "      <td>0.0</td>\n",
       "      <td>0.0</td>\n",
       "      <td>0.0</td>\n",
       "      <td>0.0</td>\n",
       "      <td>0.0</td>\n",
       "      <td>0.0</td>\n",
       "      <td>0.043030</td>\n",
       "      <td>0.001778</td>\n",
       "      <td>16</td>\n",
       "    </tr>\n",
       "    <tr>\n",
       "      <th>4</th>\n",
       "      <td>0.0</td>\n",
       "      <td>0.0</td>\n",
       "      <td>0.0</td>\n",
       "      <td>0.0</td>\n",
       "      <td>0.0</td>\n",
       "      <td>0.0</td>\n",
       "      <td>1.0</td>\n",
       "      <td>0.0</td>\n",
       "      <td>0.0</td>\n",
       "      <td>0.0</td>\n",
       "      <td>...</td>\n",
       "      <td>0.0</td>\n",
       "      <td>0.0</td>\n",
       "      <td>0.0</td>\n",
       "      <td>0.0</td>\n",
       "      <td>0.0</td>\n",
       "      <td>0.0</td>\n",
       "      <td>0.0</td>\n",
       "      <td>0.037198</td>\n",
       "      <td>0.001217</td>\n",
       "      <td>16</td>\n",
       "    </tr>\n",
       "  </tbody>\n",
       "</table>\n",
       "<p>5 rows × 117 columns</p>\n",
       "</div>"
      ],
      "text/plain": [
       "   Friday  Monday  Saturday  Sunday  Thursday  Tuesday  Wednesday  Anza Vista  \\\n",
       "0     0.0     0.0       0.0     0.0       0.0      0.0        1.0         0.0   \n",
       "1     0.0     0.0       0.0     0.0       0.0      0.0        1.0         0.0   \n",
       "2     0.0     0.0       0.0     0.0       0.0      0.0        1.0         0.0   \n",
       "3     0.0     0.0       0.0     0.0       0.0      0.0        1.0         0.0   \n",
       "4     0.0     0.0       0.0     0.0       0.0      0.0        1.0         0.0   \n",
       "\n",
       "   Balboa Terrace  Bayview  ...    3:00  4:00  5:00  6:00  7:00  8:00  9:00  \\\n",
       "0             0.0      0.0  ...     0.0   0.0   0.0   0.0   0.0   0.0   0.0   \n",
       "1             0.0      0.0  ...     0.0   0.0   0.0   0.0   0.0   0.0   0.0   \n",
       "2             0.0      0.0  ...     0.0   0.0   0.0   0.0   0.0   0.0   0.0   \n",
       "3             0.0      0.0  ...     0.0   0.0   0.0   0.0   0.0   0.0   0.0   \n",
       "4             0.0      0.0  ...     0.0   0.0   0.0   0.0   0.0   0.0   0.0   \n",
       "\n",
       "      XNorm     YNorm  crime  \n",
       "0  0.043578  0.001276     37  \n",
       "1  0.043578  0.001276     21  \n",
       "2  0.044337  0.001770     21  \n",
       "3  0.043030  0.001778     16  \n",
       "4  0.037198  0.001217     16  \n",
       "\n",
       "[5 rows x 117 columns]"
      ]
     },
     "execution_count": 492,
     "metadata": {},
     "output_type": "execute_result"
    }
   ],
   "source": [
    "trainData7.head()"
   ]
  },
  {
   "cell_type": "code",
   "execution_count": 493,
   "metadata": {
    "collapsed": false
   },
   "outputs": [
    {
     "name": "stdout",
     "output_type": "stream",
     "text": [
      "['Monday', 'Saturday', 'Friday', 'Wednesday', 'Sunday', 'Thursday', 'Tuesday', 'Van Ness - Civic Center', 'Forest Knolls', 'Balboa Terrace', 'Diamond Heights', 'Nob Hill', 'Lake', 'Mission Terrace', 'North Beach', 'Treasure Island', 'Mission Bay', 'Lower Pacific Heights', 'Lakeshore', 'Western Addition', 'Inner Sunset', 'Bayview', 'Golden Gate Heights', 'Inner Richmond', 'Pacific Heights', 'Parnassus - Ashbury', 'Glen Park', 'Chinatown', 'Clarendon Heights', 'Miraloma Park', 'Westwood Highlands', 'Potrero Hill', 'Lakeside', 'Parkside', 'Crocker Amazon', 'Hunters Point', 'Haight-Ashbury', 'West Portal', 'Twin Peaks', 'Financial District', 'Forest Hill', 'Merced Heights', 'Cow Hollow', 'Yerba Buena Island', 'Sherwood Forest', 'Buena Vista Park', 'South Beach', 'Stonestown', 'Lone Mountain', 'Ingleside Heights', 'Presidio', 'Jordan Park - Laurel Heights', 'Corona Heights', 'Outer Richmond', 'Outer Sunset', 'Russian Hill', 'Mount Davidson Manor', 'Inner Parkside', 'Duboce Triangle', 'Central Sunset', 'St. Francis Wood', 'North Waterfront', 'Sea Cliff', 'Monterey Heights', 'Midtown Terrace', 'Hayes Valley', 'Mission', 'Outer Parkside', 'Central Richmond', 'Yerba Buena', 'Portola', 'Outer Mission', 'Excelsior', 'Sunnyside', 'North Panhandle', 'Westwood Park', 'Presidio Heights', 'Anza Vista', 'Visitacion Valley', 'Telegraph Hill', 'Bernal Heights', 'Ingleside', 'Golden Gate Park', 'Ingleside Terrace', 'South of Market', 'Central Waterfront - Dogpatch', 'Marina', 'Noe Valley', 'Eureka Valley - Dolores Heights - Castro', 'Downtown', '0:00', '13:00', '1:00', '3:00', '11:00', '12:00', '23:00', '18:00', '22:00', '15:00', '9:00', '16:00', '4:00', '2:00', '14:00', '20:00', '21:00', '8:00', '6:00', '5:00', '7:00', '17:00', '10:00', '19:00', 'XNorm', 'YNorm']\n"
     ]
    }
   ],
   "source": [
    "feature_day = list(set(np.unique(train_data_full[\"DayOfWeek\"])))\n",
    "feature_neighborhood = list(set(train_data_full[\"Neighborhood\"]))\n",
    "feature_hour = list(set(train_data_full[\"Hour\"]))\n",
    "features7 = feature_day + feature_neighborhood + feature_hour \n",
    "features7.append(\"XNorm\")\n",
    "features7.append(\"YNorm\")\n",
    "features7.remove(None)\n",
    "\n",
    "print (features7)\n",
    "\n",
    "feature_labels7 = ['Day of Week', 'Neighborhood', 'Hour', 'XNorm', 'YNorm']"
   ]
  },
  {
   "cell_type": "code",
   "execution_count": 494,
   "metadata": {
    "collapsed": true
   },
   "outputs": [],
   "source": [
    "training7, validation7 = train_test_split(trainData7, train_size=.60)"
   ]
  },
  {
   "cell_type": "code",
   "execution_count": 495,
   "metadata": {
    "collapsed": false
   },
   "outputs": [
    {
     "data": {
      "text/plain": [
       "2.5546003558274784"
      ]
     },
     "execution_count": 495,
     "metadata": {},
     "output_type": "execute_result"
    }
   ],
   "source": [
    "# Logistic regression\n",
    "#GridSearch takes too long for LR, we chose C of 1.0\n",
    "C = 1.0\n",
    "model_LR7 = LogisticRegression(C=C)\n",
    "model_LR7.fit(training7[features7], training7['crime'])\n",
    "predicted_LR7 = np.array(model_LR7.predict_proba(validation7[features7]))\n",
    "log_loss(validation7['crime'], predicted_LR7) "
   ]
  },
  {
   "cell_type": "markdown",
   "metadata": {},
   "source": [
    "## VII. Overall Results\n",
    "\n"
   ]
  },
  {
   "cell_type": "code",
   "execution_count": 496,
   "metadata": {
    "collapsed": false
   },
   "outputs": [],
   "source": [
    "cols = ['Model', 'Model Code Name', 'Alpha/C', 'Features', 'Log Loss']\n",
    "rows = [['Naive Bayes', 'model_NB1', nb1.best_params_['alpha'], feature_labels1, log_loss(validation1['crime'], predicted_NB1)]\n",
    "       ,['Logistic Regression', 'model_LR1', '1.0', feature_labels1, log_loss(validation1['crime'], predicted_LR1)]\n",
    "       ,['Naive Bayes', 'model_NB2', nb2.best_params_['alpha'], feature_labels2, log_loss(validation2['crime'], predicted_NB2)]\n",
    "       ,['Logistic Regression', 'model_LR2', '1.0', feature_labels2, log_loss(validation2['crime'], predicted_LR2)]\n",
    "       ,['Naive Bayes', 'model_NB3', nb3.best_params_['alpha'], feature_labels3, log_loss(validation3['crime'], predicted_NB3)]\n",
    "       ,['Logistic Regression', 'model_LR3', '1.0', feature_labels3, log_loss(validation3['crime'], predicted_LR3)]\n",
    "       ,['Naive Bayes', 'model_NB4', nb4.best_params_['alpha'], feature_labels4, log_loss(validation4['crime'], predicted_NB4)]\n",
    "       ,['Logistic Regression', 'model_LR4', '1.0', feature_labels4, log_loss(validation4['crime'], predicted_LR4)]\n",
    "       ,['Logistic Regression', 'model_LR5', '1.0', feature_labels5, log_loss(validation5['crime'], predicted_LR5)]\n",
    "       ,['Naive Bayes', 'model_NB6', nb6.best_params_['alpha'], feature_labels6, log_loss(validation6['crime'], predicted_NB6)]\n",
    "       ,['Logistic Regression', 'model_LR6', '1.0', feature_labels6, log_loss(validation6['crime'], predicted_LR6)]\n",
    "       ,['Logistic Regression', 'model_LR7', '1.0', feature_labels7, log_loss(validation7['crime'], predicted_LR7)]]\n",
    "#sort by log loss in ascending order\n",
    "rows = sorted(rows, key=lambda x: x[4])"
   ]
  },
  {
   "cell_type": "code",
   "execution_count": 497,
   "metadata": {
    "collapsed": false
   },
   "outputs": [
    {
     "name": "stdout",
     "output_type": "stream",
     "text": [
      "List of models, model parameters, features used and the resulting log loss value\n",
      "Sorted in Log Loss ascending order to show best model based on log loss at the top\n"
     ]
    },
    {
     "data": {
      "image/png": "[encoded data removed]",
      "text/plain": [
       "<matplotlib.figure.Figure at 0x2ab13871908>"
      ]
     },
     "metadata": {},
     "output_type": "display_data"
    }
   ],
   "source": [
    "fig=plt.figure(figsize=(15,3))\n",
    "ax = fig.add_subplot(111)\n",
    "ax.xaxis.set_visible(False)\n",
    "ax.yaxis.set_visible(False)\n",
    "colLabels=(cols)\n",
    "the_table = ax.table(cellText=rows,\n",
    "              colLabels=colLabels,\n",
    "              loc='center',colWidths=[.1,.1,.1,.3,.1])\n",
    "print(\"List of models, model parameters, features used and the resulting log loss value\")\n",
    "print(\"Sorted in Log Loss ascending order to show best model based on log loss at the top\")\n",
    "plt.show()"
   ]
  },
  {
   "cell_type": "markdown",
   "metadata": {},
   "source": [
    "## VIII. Appy best model to test data\n",
    "\n",
    "### Kaggle Log Loss Evaluation:   \n",
    "### Kaggle Rank:\n"
   ]
  },
  {
   "cell_type": "code",
   "execution_count": 499,
   "metadata": {
    "collapsed": true
   },
   "outputs": [],
   "source": [
    "# Add additional features to test data\n",
    "\n",
    "#Add neighborhood to test data\n",
    "test_data['Neighborhood'] = test_data.apply(lambda x: neighborhood(nhood_list,x['X'],x['Y']),axis=1)\n",
    "\n",
    "#convert Dates to datetime\n",
    "test_data['FinalDate'] = pd.to_datetime(test_data['Dates'], format='%Y-%m-%d %H:%M:%S')\n",
    "\n",
    "#apply the needed functions\n",
    "test_data['Hour'] = test_data['FinalDate'].apply(lambda x: str(x.hour) + \":00\")\n",
    "\n",
    "#Normalize and Standardize Date and X,Y\n",
    "test_data = normalize(test_data['FinalDate'], test_data, 'DateNorm')\n",
    "test_data = standardize(test_data['FinalDate'], test_data, 'DateStand')\n",
    "test_data = normalize(test_data['X'], test_data, 'XNorm')\n",
    "test_data = standardize(test_data['X'], test_data, 'XStand')\n",
    "test_data = normalize(test_data['Y'], test_data, 'YNorm')\n",
    "test_data = standardize(test_data['Y'], test_data, 'YStand')\n",
    "test_data = standardize(test_data['DateNorm'], test_data, 'DateNS')\n",
    "test_data = standardize(test_data['XNorm'], test_data, 'XNS')\n",
    "test_data = standardize(test_data['YNorm'], test_data, 'YNS')"
   ]
  },
  {
   "cell_type": "code",
   "execution_count": 510,
   "metadata": {
    "collapsed": false
   },
   "outputs": [],
   "source": [
    "# Get binarized weekdays, neighborhoods, hours\n",
    "days = pd.get_dummies(test_data.DayOfWeek)\n",
    "neighborhoods = pd.get_dummies(test_data.Neighborhood)\n",
    "hour = pd.get_dummies(test_data.Hour)\n",
    "xnorm = test_data['XNorm']\n",
    "ynorm = test_data['YNorm']\n",
    "\n",
    "# Build new array\n",
    "testData = pd.concat([days, neighborhoods, hour, xnorm, ynorm], axis=1)\n",
    "\n",
    "test_data_final = testData[features7]\n",
    "predicted = model_LR7.predict_proba(test_data_final)\n",
    "\n",
    "results=pd.DataFrame(predicted, columns=leCrime.classes_)\n"
   ]
  },
  {
   "cell_type": "code",
   "execution_count": 512,
   "metadata": {
    "collapsed": false
   },
   "outputs": [],
   "source": [
    "results.to_csv('testResults_final1.csv', sep=',', columns = leCrime.classes_, index = True, index_label = 'ID')"
   ]
  }
 ],
 "metadata": {
  "anaconda-cloud": {},
  "kernelspec": {
   "display_name": "Python [Root]",
   "language": "python",
   "name": "Python [Root]"
  },
  "language_info": {
   "codemirror_mode": {
    "name": "ipython",
    "version": 3
   },
   "file_extension": ".py",
   "mimetype": "text/x-python",
   "name": "python",
   "nbconvert_exporter": "python",
   "pygments_lexer": "ipython3",
   "version": "3.5.2"
  }
 },
 "nbformat": 4,
 "nbformat_minor": 0
}
